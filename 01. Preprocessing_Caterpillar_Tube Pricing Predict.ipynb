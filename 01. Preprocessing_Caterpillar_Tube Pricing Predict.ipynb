{
 "cells": [
  {
   "cell_type": "code",
   "execution_count": 2,
   "metadata": {
    "collapsed": true
   },
   "outputs": [],
   "source": [
    "# 기본 tool\n",
    "import pandas as pd \n",
    "import numpy as np\n",
    "import time\n",
    "# 전처리\n",
    "from sklearn.preprocessing import Imputer\n",
    "from sklearn.preprocessing import LabelEncoder\n",
    "# PCA\n",
    "from sklearn.decomposition import PCA \n",
    "from sklearn.preprocessing import scale\n",
    "%matplotlib inline "
   ]
  },
  {
   "cell_type": "markdown",
   "metadata": {},
   "source": [
    "### 1. Data Import"
   ]
  },
  {
   "cell_type": "code",
   "execution_count": 3,
   "metadata": {
    "collapsed": true
   },
   "outputs": [],
   "source": [
    "train_rev = pd.read_pickle('train_rev')\n",
    "tube_data = pd.read_pickle('tube_data')\n",
    "bom_weight = pd.read_pickle('bom_weight')\n",
    "test_rev = pd.read_pickle('test_rev')"
   ]
  },
  {
   "cell_type": "markdown",
   "metadata": {},
   "source": [
    "### 2. Data Cleaning\n",
    "\n",
    "#### (1) Dataframe 재정의"
   ]
  },
  {
   "cell_type": "code",
   "execution_count": 4,
   "metadata": {
    "collapsed": true
   },
   "outputs": [],
   "source": [
    "train_df = pd.merge(train_rev, tube_data, on ='tube_assembly_id', how = 'left')\n",
    "train_df = pd.merge(train_df, bom_weight, on ='tube_assembly_id', how = 'left')\n",
    "\n",
    "test_df = pd.merge(test_rev, tube_data, on ='tube_assembly_id', how = 'left')\n",
    "test_df = pd.merge(test_df, bom_weight, on ='tube_assembly_id', how = 'left')"
   ]
  },
  {
   "cell_type": "markdown",
   "metadata": {},
   "source": [
    "test에서 id를 별도 Series로 분리"
   ]
  },
  {
   "cell_type": "code",
   "execution_count": 5,
   "metadata": {
    "collapsed": true
   },
   "outputs": [],
   "source": [
    "test_id = test_df.iloc[:, 0].copy()\n",
    "pd.to_pickle(test_id, 'test_id')"
   ]
  },
  {
   "cell_type": "markdown",
   "metadata": {},
   "source": [
    "#### (2) Preprocessing"
   ]
  },
  {
   "cell_type": "markdown",
   "metadata": {},
   "source": [
    "#### a. 결측값 제거"
   ]
  },
  {
   "cell_type": "markdown",
   "metadata": {},
   "source": [
    "category 변수는 supplier, bracket_pricing, material_id, end_, forming_X, y 총 10개 존재함.  \n",
    "- material_id 누락 -> 가장 많은 포션을 차지하는 SP-0029에 비하면 적은 양이나, 약 1%의 비중을 차지하는 부분임. 임의의 SP-9999 번호 부여"
   ]
  },
  {
   "cell_type": "code",
   "execution_count": 6,
   "metadata": {
    "collapsed": true,
    "scrolled": true
   },
   "outputs": [],
   "source": [
    "train_df['material_id'].fillna('SP-9999', inplace = True)\n",
    "test_df['material_id'].fillna('SP-9999', inplace = True)"
   ]
  },
  {
   "cell_type": "markdown",
   "metadata": {},
   "source": [
    "- 수치형 변수 diameter, wall, length, num_bends, bend_radius, num_boss, num_bracket, other 의 경우 평균값으로 채워줌"
   ]
  },
  {
   "cell_type": "code",
   "execution_count": 7,
   "metadata": {
    "collapsed": true
   },
   "outputs": [],
   "source": [
    "mean_col = ['diameter', 'wall', 'length', 'num_bends', 'bend_radius', 'num_boss', 'num_bracket', 'other']\n",
    "for x in mean_col:\n",
    "    train_df[x].fillna(train_df[x].mean(), inplace = True)\n",
    "for x in mean_col:\n",
    "    test_df[x].fillna(test_df[x].mean(), inplace = True)\n",
    "# test_df에는 freq_supp 도 결측값이 있으므로 0로 채워줌\n",
    "test_df['freq_supp'].fillna(0, inplace = True)"
   ]
  },
  {
   "cell_type": "markdown",
   "metadata": {},
   "source": [
    "- Category 변수 end_a_1x, end_a_2x, end_x_1x, end_x_2x, forming_x, forming_y 의 경우 bfill로 임의의 값으로 대체"
   ]
  },
  {
   "cell_type": "code",
   "execution_count": 8,
   "metadata": {
    "collapsed": true
   },
   "outputs": [],
   "source": [
    "freq_col = ['end_a_1x', 'end_a_2x', 'end_x_1x', 'end_x_2x', 'forming_x', 'forming_y']\n",
    "for x in freq_col:\n",
    "    train_df[x].fillna(train_df[x].bfill(), inplace = True)\n",
    "for x in freq_col:\n",
    "    test_df[x].fillna(test_df[x].bfill(), inplace = True)"
   ]
  },
  {
   "cell_type": "markdown",
   "metadata": {},
   "source": [
    "#### b. Label Encoding, Dummification"
   ]
  },
  {
   "cell_type": "markdown",
   "metadata": {},
   "source": [
    "- catergory 변수 중 bracket_pricing, end_a_1x, end_a_2x, end_x_1x, end_x_2x, forming_x, y (7개)는 Y/N 이므로 Label Encoder를 활용해 0, 1로 변환"
   ]
  },
  {
   "cell_type": "code",
   "execution_count": 9,
   "metadata": {
    "collapsed": true
   },
   "outputs": [],
   "source": [
    "le = LabelEncoder()\n",
    "\n",
    "# numpy array 형태로 변환\n",
    "np_train_df = np.array(train_df)\n",
    "np_test_df = np.array(test_df)"
   ]
  },
  {
   "cell_type": "code",
   "execution_count": 10,
   "metadata": {
    "collapsed": true
   },
   "outputs": [],
   "source": [
    "# bracket_pricing, end_a_1x, end_a_2x, end_x_1x, end_x_2x, forming_x, y 변환\n",
    "for i in range(np_train_df.shape[1]):\n",
    "    if i in [3, 15, 16, 17, 18, 22, 23]:\n",
    "        np_train_df[:,i] = le.fit_transform(np_train_df[:,i])\n",
    "\n",
    "for i in range(np_test_df.shape[1]):\n",
    "    if i in [4, 15, 16, 17, 18, 22, 23]:\n",
    "        np_test_df[:, i] = le.fit_transform(np_test_df[:,i])\n",
    "\n",
    "le_train_df = pd.DataFrame(np_train_df)\n",
    "le_train_df.columns = train_df.columns\n",
    "\n",
    "le_test_df = pd.DataFrame(np_test_df)\n",
    "le_test_df.columns = test_df.columns"
   ]
  },
  {
   "cell_type": "markdown",
   "metadata": {},
   "source": [
    "- category 변수 중 material_id의 value가 여러가지 이므로 dummy화하고, supplier, tube_assembly_id 정보는 제거"
   ]
  },
  {
   "cell_type": "code",
   "execution_count": 11,
   "metadata": {
    "collapsed": true
   },
   "outputs": [],
   "source": [
    "dum_mat_col = ['material_id']\n",
    "dum_mat = pd.get_dummies(le_train_df[dum_mat_col])\n",
    "dum_mat_t = pd.get_dummies(le_test_df[dum_mat_col])\n",
    "\n",
    "dum_mat_t['material_id_SP-0030'] = pd.Series(0)\n",
    "dum_mat_t['material_id_SP-0031'] = pd.Series(0)\n",
    "dum_mat_t= dum_mat_t.fillna(0)\n",
    "\n",
    "processed_train_df = pd.concat([le_train_df, dum_mat], axis=1, join_axes=[le_train_df.index])\n",
    "processed_train_df = processed_train_df.drop(['supplier', 'tube_assembly_id', 'material_id'], axis = 1)\n",
    "\n",
    "processed_test_df = pd.concat([le_test_df, dum_mat_t], axis=1, join_axes=[le_test_df.index])\n",
    "processed_test_df = processed_test_df.drop(['supplier', 'tube_assembly_id', 'material_id'], axis = 1)"
   ]
  },
  {
   "cell_type": "markdown",
   "metadata": {},
   "source": [
    "#### c. outlier 제거"
   ]
  },
  {
   "cell_type": "markdown",
   "metadata": {},
   "source": [
    "EDA에서 확인한 length 0, bend_radius 9999 은 이상치로 간주하여 제거 (단, train set에서만)"
   ]
  },
  {
   "cell_type": "code",
   "execution_count": 12,
   "metadata": {
    "collapsed": true
   },
   "outputs": [],
   "source": [
    "processed_train_df = processed_train_df.loc[processed_train_df['length'] > 0]\n",
    "processed_train_df = processed_train_df.loc[processed_train_df['bend_radius'] < 9999]"
   ]
  },
  {
   "cell_type": "markdown",
   "metadata": {},
   "source": [
    "#### (3) 학습을 위한 최종 data set 저장"
   ]
  },
  {
   "cell_type": "markdown",
   "metadata": {},
   "source": [
    "train set에서 종속 변수 cost 별도 DF으로 분리하고, test set에서 모델 학습에 불필요한 id 변수 제거"
   ]
  },
  {
   "cell_type": "code",
   "execution_count": 13,
   "metadata": {
    "collapsed": true
   },
   "outputs": [],
   "source": [
    "df_y = processed_train_df.iloc[:, 2].copy()\n",
    "processed_train_df = processed_train_df.drop(['cost'], axis=1)\n",
    "processed_test_df = processed_test_df.drop(['id'], axis=1)"
   ]
  },
  {
   "cell_type": "markdown",
   "metadata": {},
   "source": [
    "model 학습을 위해 numeric 변수로 변환"
   ]
  },
  {
   "cell_type": "code",
   "execution_count": 14,
   "metadata": {
    "collapsed": true
   },
   "outputs": [],
   "source": [
    "fin_train_df = processed_train_df.apply(pd.to_numeric)\n",
    "df_y = df_y.apply(pd.to_numeric)\n",
    "fin_test = processed_test_df.apply(pd.to_numeric)"
   ]
  },
  {
   "cell_type": "code",
   "execution_count": 15,
   "metadata": {
    "collapsed": true
   },
   "outputs": [],
   "source": [
    "# for RMSLE 로 학습하기 위해 log (x + 1) 형태로 변환\n",
    "log_df_y = np.log1p(df_y) "
   ]
  },
  {
   "cell_type": "markdown",
   "metadata": {},
   "source": [
    "XGBoost model 학습을 위해 train, test의 column order를 맞춰줌"
   ]
  },
  {
   "cell_type": "code",
   "execution_count": 25,
   "metadata": {
    "collapsed": true
   },
   "outputs": [],
   "source": [
    "fin_train_df1= fin_train_df.reindex_axis(sorted(fin_train_df.columns), axis=1)\n",
    "fin_test1= fin_test.reindex_axis(sorted(fin_train_df.columns), axis=1)"
   ]
  },
  {
   "cell_type": "markdown",
   "metadata": {},
   "source": [
    "정리된 DataFrame을 csv 형태로 저장"
   ]
  },
  {
   "cell_type": "code",
   "execution_count": 28,
   "metadata": {
    "collapsed": true
   },
   "outputs": [],
   "source": [
    "fin_train_df1.to_csv('my_train1.csv', header = True, index = False)\n",
    "log_df_y.to_csv('my_log_df_y1.csv', header = True, index = False)\n",
    "fin_test1.to_csv('my_test1.csv', header = True, index = False)"
   ]
  }
 ],
 "metadata": {
  "kernelspec": {
   "display_name": "Python 3",
   "language": "python",
   "name": "python3"
  },
  "language_info": {
   "codemirror_mode": {
    "name": "ipython",
    "version": 3
   },
   "file_extension": ".py",
   "mimetype": "text/x-python",
   "name": "python",
   "nbconvert_exporter": "python",
   "pygments_lexer": "ipython3",
   "version": "3.6.1"
  }
 },
 "nbformat": 4,
 "nbformat_minor": 2
}
