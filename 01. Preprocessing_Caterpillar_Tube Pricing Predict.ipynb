{
 "cells": [
  {
   "cell_type": "markdown",
   "metadata": {},
   "source": [
    "<img src=\"https://kaggle2.blob.core.windows.net/competitions/kaggle/4467/logos/front_page.png\", style=\"float:left;width:100px;height:50px;\">"
   ]
  },
  {
   "cell_type": "markdown",
   "metadata": {},
   "source": [
    "<img src=\"https://kaggle2.blob.core.windows.net/competitions/kaggle/4467/media/dozer.png\", style=\"float:left;width:400px;height:200px;\">\n",
    "\n",
    "- 건설 장비 업체. 각종 장비에 들어가는 tubing 의 가격 예측 모델 만들기\n",
    "- 평가: RMSLE (Root Mean Squared Logarithmic Error)\n",
    "- [kaggle link](https://www.kaggle.com/c/caterpillar-tube-pricing)"
   ]
  },
  {
   "cell_type": "markdown",
   "metadata": {},
   "source": [
    "### 0. 주제 선정 이유 및 Data 보기 전 가설 수립\n",
    "(주제 선정 이유) \n",
    "  * 계약 담당했던 시추 장비 pkg.에도 많은 배관재가 포함되어 있었음. \n",
    "  * 구매 경험 했던 사람으로서 기존 가격 정보를 가지고 예측을 해본다는 주제에 관심이 갔음\n",
    "  \n",
    "(tube 견적에 영향을 미칠만한 요인은?)\n",
    "  - 원자재(구리) 가격\n",
    "  - tube의 size(length, radius), thickness\n",
    "  - tube의 재질 (특이재질 titanum 등 가공이 어렵고 비쌈)\n",
    "  - 주문량 많을 수록 단가 낮아질 것\n",
    "  - vendor 의 규모, 가격협상력 등에 따라"
   ]
  },
  {
   "cell_type": "code",
   "execution_count": 1,
   "metadata": {},
   "outputs": [
    {
     "name": "stderr",
     "output_type": "stream",
     "text": [
      "C:\\Anaconda3\\lib\\site-packages\\sklearn\\cross_validation.py:44: DeprecationWarning: This module was deprecated in version 0.18 in favor of the model_selection module into which all the refactored classes and functions are moved. Also note that the interface of the new CV iterators are different from that of this module. This module will be removed in 0.20.\n",
      "  \"This module will be removed in 0.20.\", DeprecationWarning)\n"
     ]
    }
   ],
   "source": [
    "# 기본 tool\n",
    "import pandas as pd \n",
    "import numpy as np\n",
    "import time\n",
    "#시각화\n",
    "from matplotlib import pyplot as plt\n",
    "import seaborn as sns \n",
    "# 전처리\n",
    "from sklearn.preprocessing import LabelEncoder\n",
    "from sklearn.preprocessing import OneHotEncoder\n",
    "from sklearn.preprocessing import MinMaxScaler\n",
    "# PCA\n",
    "from sklearn.decomposition import PCA \n",
    "from sklearn.preprocessing import scale\n",
    "# validation\n",
    "from sklearn.model_selection import cross_val_score\n",
    "from sklearn.model_selection import GridSearchCV \n",
    "from sklearn.model_selection import train_test_split\n",
    "from sklearn.metrics import mean_squared_error\n",
    "# model\n",
    "from sklearn.linear_model import LinearRegression\n",
    "from sklearn.ensemble import RandomForestRegressor\n",
    "import xgboost as xgb \n",
    "from xgboost.sklearn import XGBRegressor\n",
    "%matplotlib inline "
   ]
  },
  {
   "cell_type": "markdown",
   "metadata": {},
   "source": [
    "### 1. Data Import"
   ]
  },
  {
   "cell_type": "code",
   "execution_count": 2,
   "metadata": {
    "collapsed": true
   },
   "outputs": [],
   "source": [
    "train = pd.read_csv('./input/train_set.csv', parse_dates=[2,]) # parse_datas: 연-월-일로 되어 있는 data를 분리하기 위해 \n",
    "test = pd.read_csv('./input/test_set.csv', parse_dates=[3,])\n",
    "tube_data = pd.read_csv('./input/tube.csv')\n",
    "bill_of_materials_data = pd.read_csv('./input/bill_of_materials.csv')\n",
    "specs_data = pd.read_csv('./input/specs.csv')"
   ]
  },
  {
   "cell_type": "code",
   "execution_count": 3,
   "metadata": {
    "collapsed": true
   },
   "outputs": [],
   "source": [
    "def info(dataset):\n",
    "    print(\"* shape of dataset\")\n",
    "    print(dataset.shape)\n",
    "    print(\"------------------------------------------\")\n",
    "    print(\"* columns:\")\n",
    "    print(dataset.columns)\n",
    "    print(\"------------------------------------------\")\n",
    "    print(\"* brief information of dataframe:\")\n",
    "    print(dataset.info())"
   ]
  },
  {
   "cell_type": "markdown",
   "metadata": {},
   "source": [
    "### 2. Data Cleaning\n",
    "\n",
    "#### (1) Dataframe 재정의"
   ]
  },
  {
   "cell_type": "code",
   "execution_count": 4,
   "metadata": {
    "collapsed": true
   },
   "outputs": [],
   "source": [
    "train_df = pd.merge(train, tube_data, on ='tube_assembly_id')\n",
    "train_df = pd.merge(train_df, bill_of_materials_data, on ='tube_assembly_id')"
   ]
  },
  {
   "cell_type": "code",
   "execution_count": 5,
   "metadata": {},
   "outputs": [],
   "source": [
    "test_df = pd.merge(test, tube_data, on ='tube_assembly_id')\n",
    "test_df = pd.merge(test_df, bill_of_materials_data, on ='tube_assembly_id')"
   ]
  },
  {
   "cell_type": "markdown",
   "metadata": {},
   "source": [
    "예측해야할 종속변수 price를 분리하고, quote_date 변수 year, month로 분리"
   ]
  },
  {
   "cell_type": "code",
   "execution_count": 6,
   "metadata": {
    "collapsed": true
   },
   "outputs": [],
   "source": [
    "train_df['year'] = train_df.quote_date.dt.year\n",
    "train_df['month'] = train_df.quote_date.dt.month"
   ]
  },
  {
   "cell_type": "code",
   "execution_count": 7,
   "metadata": {},
   "outputs": [],
   "source": [
    "df_y = train_df.iloc[:, 7].copy()\n",
    "train_df = train_df.drop(['quote_date'], axis = 1)"
   ]
  },
  {
   "cell_type": "markdown",
   "metadata": {},
   "source": [
    "test에서 id를 별도 Series로 분리해두고, quote_date 변수 year와 month로 변환해줌"
   ]
  },
  {
   "cell_type": "code",
   "execution_count": 8,
   "metadata": {
    "collapsed": true
   },
   "outputs": [],
   "source": [
    "test_id = test.iloc[:, 0].copy()"
   ]
  },
  {
   "cell_type": "code",
   "execution_count": 9,
   "metadata": {},
   "outputs": [],
   "source": [
    "test_df['year'] = test_df.quote_date.dt.year\n",
    "test_df['month'] = test_df.quote_date.dt.month\n",
    "test_df = test_df.drop(['id', 'quote_date'], axis = 1)"
   ]
  },
  {
   "cell_type": "markdown",
   "metadata": {},
   "source": [
    "#### (2) Preprocessing"
   ]
  },
  {
   "cell_type": "markdown",
   "metadata": {},
   "source": [
    "#### a. 결측값 제거"
   ]
  },
  {
   "cell_type": "markdown",
   "metadata": {},
   "source": [
    "category 변수는 supplier, bracket_pricing, material_id, end_, component_id 총 17개 존재함.  \n",
    "- material_id 229개 누락 -> SP-0029에 비하면 적은 양이나, 약 1%의 비중을 차지하는 부분임. 임의의 SP-9999 번호 부여\n",
    "- component_id_1~8까지에 결측값(NaN)이 존재. -> 공란으로 채워줌"
   ]
  },
  {
   "cell_type": "code",
   "execution_count": 12,
   "metadata": {
    "collapsed": true,
    "scrolled": true
   },
   "outputs": [],
   "source": [
    "train_df['material_id'].fillna('SP-9999', inplace = True)"
   ]
  },
  {
   "cell_type": "code",
   "execution_count": 13,
   "metadata": {
    "collapsed": true
   },
   "outputs": [],
   "source": [
    "test_df['material_id'].fillna('SP-9999', inplace = True)"
   ]
  },
  {
   "cell_type": "code",
   "execution_count": 14,
   "metadata": {
    "collapsed": true
   },
   "outputs": [],
   "source": [
    "for i in range(1,9):\n",
    "    col_num = 'component_id_' + str(i)\n",
    "    train_df[col_num].replace(np.nan,' ', regex=True, inplace= True)"
   ]
  },
  {
   "cell_type": "code",
   "execution_count": 15,
   "metadata": {
    "collapsed": true
   },
   "outputs": [],
   "source": [
    "for i in range(1,9):\n",
    "    col_num = 'component_id_' + str(i)\n",
    "    test_df[col_num].replace(np.nan,' ', regex=True, inplace= True)"
   ]
  },
  {
   "cell_type": "markdown",
   "metadata": {},
   "source": [
    "양적 변수 중 각 component의 quantity에도 결측값 존재. -> 이는 사용되지 않았다는 의미로 0으로 채워줌"
   ]
  },
  {
   "cell_type": "code",
   "execution_count": 16,
   "metadata": {},
   "outputs": [],
   "source": [
    "train_df.fillna(0, inplace = True)"
   ]
  },
  {
   "cell_type": "code",
   "execution_count": 17,
   "metadata": {
    "collapsed": true
   },
   "outputs": [],
   "source": [
    "test_df.fillna(0, inplace = True)"
   ]
  },
  {
   "cell_type": "markdown",
   "metadata": {},
   "source": [
    "#### b. Label Encoding, Onehot Encoding"
   ]
  },
  {
   "cell_type": "markdown",
   "metadata": {},
   "source": [
    "- catergory 변수 중 bracket_pricing, end_a_1x, end_a_2x, end_x_1x, end_x_2x (5개)는 Y/N 이므로 Label Encoder를 활용해 0, 1로 변환"
   ]
  },
  {
   "cell_type": "code",
   "execution_count": 18,
   "metadata": {
    "collapsed": true
   },
   "outputs": [],
   "source": [
    "le = LabelEncoder()"
   ]
  },
  {
   "cell_type": "code",
   "execution_count": 19,
   "metadata": {
    "collapsed": true
   },
   "outputs": [],
   "source": [
    "# numpy array 형태로 변환\n",
    "np_train_df = np.array(train_df)"
   ]
  },
  {
   "cell_type": "code",
   "execution_count": 20,
   "metadata": {
    "collapsed": true
   },
   "outputs": [],
   "source": [
    "np_test_df = np.array(test_df)"
   ]
  },
  {
   "cell_type": "code",
   "execution_count": 21,
   "metadata": {},
   "outputs": [
    {
     "data": {
      "text/plain": [
       "Index(['tube_assembly_id', 'supplier', 'annual_usage', 'min_order_quantity',\n",
       "       'bracket_pricing', 'quantity', 'cost', 'material_id', 'diameter',\n",
       "       'wall', 'length', 'num_bends', 'bend_radius', 'end_a_1x', 'end_a_2x',\n",
       "       'end_x_1x', 'end_x_2x', 'end_a', 'end_x', 'num_boss', 'num_bracket',\n",
       "       'other', 'component_id_1', 'quantity_1', 'component_id_2', 'quantity_2',\n",
       "       'component_id_3', 'quantity_3', 'component_id_4', 'quantity_4',\n",
       "       'component_id_5', 'quantity_5', 'component_id_6', 'quantity_6',\n",
       "       'component_id_7', 'quantity_7', 'component_id_8', 'quantity_8', 'year',\n",
       "       'month'],\n",
       "      dtype='object')"
      ]
     },
     "execution_count": 21,
     "metadata": {},
     "output_type": "execute_result"
    }
   ],
   "source": [
    "train_df.columns"
   ]
  },
  {
   "cell_type": "code",
   "execution_count": 22,
   "metadata": {},
   "outputs": [
    {
     "data": {
      "text/plain": [
       "Index(['tube_assembly_id', 'supplier', 'annual_usage', 'min_order_quantity',\n",
       "       'bracket_pricing', 'quantity', 'material_id', 'diameter', 'wall',\n",
       "       'length', 'num_bends', 'bend_radius', 'end_a_1x', 'end_a_2x',\n",
       "       'end_x_1x', 'end_x_2x', 'end_a', 'end_x', 'num_boss', 'num_bracket',\n",
       "       'other', 'component_id_1', 'quantity_1', 'component_id_2', 'quantity_2',\n",
       "       'component_id_3', 'quantity_3', 'component_id_4', 'quantity_4',\n",
       "       'component_id_5', 'quantity_5', 'component_id_6', 'quantity_6',\n",
       "       'component_id_7', 'quantity_7', 'component_id_8', 'quantity_8', 'year',\n",
       "       'month'],\n",
       "      dtype='object')"
      ]
     },
     "execution_count": 22,
     "metadata": {},
     "output_type": "execute_result"
    }
   ],
   "source": [
    "test_df.columns"
   ]
  },
  {
   "cell_type": "code",
   "execution_count": 23,
   "metadata": {
    "collapsed": true
   },
   "outputs": [],
   "source": [
    "# bracket_pricing, end_a_1x, end_a_2x, end_x_1x, end_x_2x 변환\n",
    "for i in range(np_train_df.shape[1]):\n",
    "    if i in [4, 13, 14, 15, 16]:\n",
    "        np_train_df[:, i] = le.fit_transform(np_train_df[:,i])"
   ]
  },
  {
   "cell_type": "code",
   "execution_count": 24,
   "metadata": {
    "collapsed": true
   },
   "outputs": [],
   "source": [
    "for i in range(np_test_df.shape[1]):\n",
    "    if i in [4, 12, 13, 14, 15]:\n",
    "        np_test_df[:, i] = le.fit_transform(np_test_df[:,i])"
   ]
  },
  {
   "cell_type": "code",
   "execution_count": 25,
   "metadata": {
    "collapsed": true
   },
   "outputs": [],
   "source": [
    "le_train_df = pd.DataFrame(np_train_df)"
   ]
  },
  {
   "cell_type": "code",
   "execution_count": 26,
   "metadata": {
    "collapsed": true
   },
   "outputs": [],
   "source": [
    "le_train_df.columns = train_df.columns"
   ]
  },
  {
   "cell_type": "code",
   "execution_count": 27,
   "metadata": {
    "collapsed": true
   },
   "outputs": [],
   "source": [
    "le_test_df = pd.DataFrame(np_test_df)\n",
    "le_test_df.columns = test_df.columns"
   ]
  },
  {
   "cell_type": "markdown",
   "metadata": {},
   "source": [
    "- category 변수 중 supplier, material_id value가 여러가지 이므로 dummy화 해준다."
   ]
  },
  {
   "cell_type": "code",
   "execution_count": 28,
   "metadata": {},
   "outputs": [],
   "source": [
    "dum_sup_col = ['supplier']\n",
    "dum_mat_col = ['material_id']\n",
    "\n",
    "dum_sup = pd.get_dummies(le_train_df[dum_sup_col])\n",
    "dum_mat = pd.get_dummies(le_train_df[dum_mat_col])"
   ]
  },
  {
   "cell_type": "code",
   "execution_count": 29,
   "metadata": {
    "collapsed": true
   },
   "outputs": [],
   "source": [
    "dum_sup_t = pd.get_dummies(le_test_df[dum_sup_col])\n",
    "dum_mat_t = pd.get_dummies(le_test_df[dum_mat_col])"
   ]
  },
  {
   "cell_type": "markdown",
   "metadata": {},
   "source": [
    "- category 변수 중 tube_assembly_id는 end_a/x 여부, end_a/x에 어떤 componenet가 들어가는지, component_id와 quantity를 포함하는 변수. 다름을 나타냄"
   ]
  },
  {
   "cell_type": "code",
   "execution_count": 32,
   "metadata": {
    "collapsed": true
   },
   "outputs": [],
   "source": [
    "le_train_df['tube_assembly_id']= le_train_df['tube_assembly_id'].str[3:]"
   ]
  },
  {
   "cell_type": "code",
   "execution_count": 33,
   "metadata": {
    "collapsed": true
   },
   "outputs": [],
   "source": [
    "le_test_df['tube_assembly_id']= le_test_df['tube_assembly_id'].str[3:]"
   ]
  },
  {
   "cell_type": "code",
   "execution_count": 34,
   "metadata": {
    "collapsed": true
   },
   "outputs": [],
   "source": [
    "tube_col = ['end_a_1x', 'end_a_2x', 'end_x_1x', 'end_x_2x', 'end_a', 'end_x',\n",
    "            'component_id_1', 'quantity_1', 'component_id_2', 'quantity_2', \n",
    "            'component_id_3', 'quantity_3', 'component_id_4', 'quantity_4', \n",
    "            'component_id_5', 'quantity_5', 'component_id_6', 'quantity_6', \n",
    "            'component_id_7', 'quantity_7', 'component_id_8', 'quantity_8']\n",
    "le_train_df = le_train_df.drop(tube_col, axis=1)"
   ]
  },
  {
   "cell_type": "code",
   "execution_count": 35,
   "metadata": {
    "collapsed": true
   },
   "outputs": [],
   "source": [
    "le_test_df= le_test_df.drop(tube_col, axis=1)"
   ]
  },
  {
   "cell_type": "markdown",
   "metadata": {},
   "source": [
    "dummy화 시킨 'supplier', 'material_id'을 단순화 (차원 축소 by PCA)"
   ]
  },
  {
   "cell_type": "code",
   "execution_count": 36,
   "metadata": {
    "collapsed": true
   },
   "outputs": [],
   "source": [
    "pca = PCA()"
   ]
  },
  {
   "cell_type": "code",
   "execution_count": 37,
   "metadata": {
    "collapsed": true
   },
   "outputs": [],
   "source": [
    "def pca_df(df):\n",
    "    pca.fit(df)\n",
    "    var = pca.explained_variance_ratio_\n",
    "    cum_var = np.cumsum(np.round(var, decimals=4)*100)\n",
    "    plt.plot(cum_var)\n",
    "    #print(cum_var)\n",
    "    i = 0\n",
    "    while i < len(cum_var):\n",
    "        if cum_var[i] >= 90: \n",
    "            print('{}ea: {}%'.format(i, cum_var[i]))\n",
    "            break\n",
    "        elif cum_var[i] < 95:\n",
    "            i = i + 1\n"
   ]
  },
  {
   "cell_type": "code",
   "execution_count": 38,
   "metadata": {},
   "outputs": [
    {
     "name": "stdout",
     "output_type": "stream",
     "text": [
      "5ea: 90.48%\n"
     ]
    },
    {
     "data": {
      "image/png": "[encoded data removed]",
      "text/plain": [
       "<matplotlib.figure.Figure at 0x1d8d24a8518>"
      ]
     },
     "metadata": {},
     "output_type": "display_data"
    }
   ],
   "source": [
    "pca_df(dum_sup)"
   ]
  },
  {
   "cell_type": "code",
   "execution_count": 39,
   "metadata": {},
   "outputs": [],
   "source": [
    "# column 수 맞춰주기 위해 \n",
    "dum_sup_t['supplier_S-0003'] = pd.Series(0)"
   ]
  },
  {
   "cell_type": "code",
   "execution_count": 40,
   "metadata": {},
   "outputs": [],
   "source": [
    "dum_sup_t= dum_sup_t.fillna(0)"
   ]
  },
  {
   "cell_type": "code",
   "execution_count": 41,
   "metadata": {},
   "outputs": [],
   "source": [
    "pca = PCA(n_components=5)\n",
    "pca.fit(dum_sup)\n",
    "pca_dum_sup = pca.transform(dum_sup)\n",
    "pca_dum_sup_t = pca.transform(dum_sup_t)"
   ]
  },
  {
   "cell_type": "code",
   "execution_count": 42,
   "metadata": {},
   "outputs": [
    {
     "name": "stdout",
     "output_type": "stream",
     "text": [
      "3ea: 92.97%\n"
     ]
    },
    {
     "data": {
      "image/png": "[encoded data removed]",
      "text/plain": [
       "<matplotlib.figure.Figure at 0x1d8d24d4390>"
      ]
     },
     "metadata": {},
     "output_type": "display_data"
    }
   ],
   "source": [
    "pca_df(dum_mat)"
   ]
  },
  {
   "cell_type": "code",
   "execution_count": 43,
   "metadata": {
    "collapsed": true
   },
   "outputs": [],
   "source": [
    "# column 수 맞춰주기 위해 \n",
    "dum_mat_t['material_id_SP-0031'] = pd.Series(0)\n",
    "dum_mat_t= dum_mat_t.fillna(0)"
   ]
  },
  {
   "cell_type": "code",
   "execution_count": 44,
   "metadata": {},
   "outputs": [],
   "source": [
    "pca = PCA(n_components=3)\n",
    "pca.fit(dum_mat)\n",
    "pca_dum_mat = pca.transform(dum_mat)\n",
    "pca_dum_mat_t = pca.transform(dum_mat_t)"
   ]
  },
  {
   "cell_type": "code",
   "execution_count": 45,
   "metadata": {
    "collapsed": true
   },
   "outputs": [],
   "source": [
    "dum_sup = pd.DataFrame(pca_dum_sup)\n",
    "dum_mat = pd.DataFrame(pca_dum_mat)"
   ]
  },
  {
   "cell_type": "code",
   "execution_count": 46,
   "metadata": {
    "collapsed": true
   },
   "outputs": [],
   "source": [
    "dum_sup_t = pd.DataFrame(pca_dum_sup_t)\n",
    "dum_mat_t = pd.DataFrame(pca_dum_mat_t)"
   ]
  },
  {
   "cell_type": "code",
   "execution_count": 47,
   "metadata": {},
   "outputs": [
    {
     "data": {
      "text/plain": [
       "(30213, 8)"
      ]
     },
     "execution_count": 47,
     "metadata": {},
     "output_type": "execute_result"
    }
   ],
   "source": [
    "pca_dum = pd.concat([dum_sup, dum_mat], axis = 1)\n",
    "pca_dum.shape"
   ]
  },
  {
   "cell_type": "code",
   "execution_count": 48,
   "metadata": {},
   "outputs": [
    {
     "data": {
      "text/html": [
       "<div>\n",
       "<style>\n",
       "    .dataframe thead tr:only-child th {\n",
       "        text-align: right;\n",
       "    }\n",
       "\n",
       "    .dataframe thead th {\n",
       "        text-align: left;\n",
       "    }\n",
       "\n",
       "    .dataframe tbody tr th {\n",
       "        vertical-align: top;\n",
       "    }\n",
       "</style>\n",
       "<table border=\"1\" class=\"dataframe\">\n",
       "  <thead>\n",
       "    <tr style=\"text-align: right;\">\n",
       "      <th></th>\n",
       "      <th>0</th>\n",
       "      <th>1</th>\n",
       "      <th>2</th>\n",
       "      <th>3</th>\n",
       "      <th>4</th>\n",
       "      <th>0</th>\n",
       "      <th>1</th>\n",
       "      <th>2</th>\n",
       "    </tr>\n",
       "  </thead>\n",
       "  <tbody>\n",
       "    <tr>\n",
       "      <th>30208</th>\n",
       "      <td>0.924167</td>\n",
       "      <td>-0.612549</td>\n",
       "      <td>-0.181750</td>\n",
       "      <td>0.015030</td>\n",
       "      <td>-0.018890</td>\n",
       "      <td>0.816077</td>\n",
       "      <td>-0.543056</td>\n",
       "      <td>-0.023822</td>\n",
       "    </tr>\n",
       "    <tr>\n",
       "      <th>30209</th>\n",
       "      <td>0.924167</td>\n",
       "      <td>-0.612549</td>\n",
       "      <td>-0.181750</td>\n",
       "      <td>0.015030</td>\n",
       "      <td>-0.018890</td>\n",
       "      <td>0.816077</td>\n",
       "      <td>-0.543056</td>\n",
       "      <td>-0.023822</td>\n",
       "    </tr>\n",
       "    <tr>\n",
       "      <th>30210</th>\n",
       "      <td>0.924167</td>\n",
       "      <td>-0.612549</td>\n",
       "      <td>-0.181750</td>\n",
       "      <td>0.015030</td>\n",
       "      <td>-0.018890</td>\n",
       "      <td>-0.516131</td>\n",
       "      <td>-0.070568</td>\n",
       "      <td>-0.005238</td>\n",
       "    </tr>\n",
       "    <tr>\n",
       "      <th>30211</th>\n",
       "      <td>0.560890</td>\n",
       "      <td>0.138204</td>\n",
       "      <td>0.320472</td>\n",
       "      <td>-0.073232</td>\n",
       "      <td>0.137242</td>\n",
       "      <td>-0.516131</td>\n",
       "      <td>-0.070568</td>\n",
       "      <td>-0.005238</td>\n",
       "    </tr>\n",
       "    <tr>\n",
       "      <th>30212</th>\n",
       "      <td>0.596372</td>\n",
       "      <td>0.169681</td>\n",
       "      <td>0.550864</td>\n",
       "      <td>-0.658749</td>\n",
       "      <td>-0.546707</td>\n",
       "      <td>-0.516131</td>\n",
       "      <td>-0.070568</td>\n",
       "      <td>-0.005238</td>\n",
       "    </tr>\n",
       "  </tbody>\n",
       "</table>\n",
       "</div>"
      ],
      "text/plain": [
       "              0         1         2         3         4         0         1  \\\n",
       "30208  0.924167 -0.612549 -0.181750  0.015030 -0.018890  0.816077 -0.543056   \n",
       "30209  0.924167 -0.612549 -0.181750  0.015030 -0.018890  0.816077 -0.543056   \n",
       "30210  0.924167 -0.612549 -0.181750  0.015030 -0.018890 -0.516131 -0.070568   \n",
       "30211  0.560890  0.138204  0.320472 -0.073232  0.137242 -0.516131 -0.070568   \n",
       "30212  0.596372  0.169681  0.550864 -0.658749 -0.546707 -0.516131 -0.070568   \n",
       "\n",
       "              2  \n",
       "30208 -0.023822  \n",
       "30209 -0.023822  \n",
       "30210 -0.005238  \n",
       "30211 -0.005238  \n",
       "30212 -0.005238  "
      ]
     },
     "execution_count": 48,
     "metadata": {},
     "output_type": "execute_result"
    }
   ],
   "source": [
    "pca_dum.tail()"
   ]
  },
  {
   "cell_type": "code",
   "execution_count": 49,
   "metadata": {
    "collapsed": true
   },
   "outputs": [],
   "source": [
    "pca_dum.columns = range(8)"
   ]
  },
  {
   "cell_type": "code",
   "execution_count": 50,
   "metadata": {
    "collapsed": true
   },
   "outputs": [],
   "source": [
    "pca_dum_t = pd.concat([dum_sup_t, dum_mat_t], axis = 1)"
   ]
  },
  {
   "cell_type": "code",
   "execution_count": 51,
   "metadata": {
    "collapsed": true
   },
   "outputs": [],
   "source": [
    "pca_dum_t.columns = range(8)"
   ]
  },
  {
   "cell_type": "code",
   "execution_count": 52,
   "metadata": {
    "collapsed": true
   },
   "outputs": [],
   "source": [
    "le_train_df.drop(dum_sup_col, inplace= True, axis = 1)\n",
    "le_train_df.drop(dum_mat_col, inplace= True, axis = 1)"
   ]
  },
  {
   "cell_type": "code",
   "execution_count": 53,
   "metadata": {
    "collapsed": true
   },
   "outputs": [],
   "source": [
    "le_test_df.drop(dum_sup_col, inplace= True, axis = 1)\n",
    "le_test_df.drop(dum_mat_col, inplace= True, axis = 1)"
   ]
  },
  {
   "cell_type": "code",
   "execution_count": 54,
   "metadata": {},
   "outputs": [
    {
     "data": {
      "text/plain": [
       "(30213, 24)"
      ]
     },
     "execution_count": 54,
     "metadata": {},
     "output_type": "execute_result"
    }
   ],
   "source": [
    "processed_train_df = pd.concat([le_train_df, pca_dum], axis=1)\n",
    "processed_train_df.shape"
   ]
  },
  {
   "cell_type": "code",
   "execution_count": 55,
   "metadata": {},
   "outputs": [
    {
     "data": {
      "text/plain": [
       "(30235, 23)"
      ]
     },
     "execution_count": 55,
     "metadata": {},
     "output_type": "execute_result"
    }
   ],
   "source": [
    "processed_test_df = pd.concat([le_test_df, pca_dum_t], axis=1)\n",
    "processed_test_df.shape"
   ]
  },
  {
   "cell_type": "markdown",
   "metadata": {},
   "source": [
    "#### c. outlier 제거"
   ]
  },
  {
   "cell_type": "markdown",
   "metadata": {},
   "source": [
    "EDA에서 확인한 length 0, bend_radius 9999 전처리"
   ]
  },
  {
   "cell_type": "code",
   "execution_count": 56,
   "metadata": {},
   "outputs": [
    {
     "data": {
      "text/plain": [
       "0.0    26\n",
       "1.0     8\n",
       "3.0     1\n",
       "4.0    23\n",
       "5.0     3\n",
       "Name: length, dtype: int64"
      ]
     },
     "execution_count": 56,
     "metadata": {},
     "output_type": "execute_result"
    }
   ],
   "source": [
    "processed_train_df['length'].value_counts().sort_index().head()"
   ]
  },
  {
   "cell_type": "code",
   "execution_count": 57,
   "metadata": {
    "collapsed": true
   },
   "outputs": [],
   "source": [
    "processed_train_df = processed_train_df.loc[processed_train_df['length'] > 0]"
   ]
  },
  {
   "cell_type": "code",
   "execution_count": 58,
   "metadata": {},
   "outputs": [
    {
     "data": {
      "text/plain": [
       "203.2     16\n",
       "228.6      1\n",
       "254.0     21\n",
       "530.0      8\n",
       "9999.0    12\n",
       "Name: bend_radius, dtype: int64"
      ]
     },
     "execution_count": 58,
     "metadata": {},
     "output_type": "execute_result"
    }
   ],
   "source": [
    "processed_train_df['bend_radius'].value_counts().sort_index().tail()"
   ]
  },
  {
   "cell_type": "code",
   "execution_count": 59,
   "metadata": {
    "collapsed": true
   },
   "outputs": [],
   "source": [
    "processed_train_df = processed_train_df.loc[processed_train_df['bend_radius'] < 9999]"
   ]
  },
  {
   "cell_type": "markdown",
   "metadata": {},
   "source": [
    "- 종속변수 cost 별도의 dataframe으로 분리"
   ]
  },
  {
   "cell_type": "code",
   "execution_count": 60,
   "metadata": {
    "collapsed": true
   },
   "outputs": [],
   "source": [
    "df_y = processed_train_df['cost'].copy()"
   ]
  },
  {
   "cell_type": "code",
   "execution_count": 79,
   "metadata": {},
   "outputs": [],
   "source": [
    "processed_train_df = processed_train_df.drop(['cost'], axis=1)"
   ]
  },
  {
   "cell_type": "markdown",
   "metadata": {},
   "source": [
    "model 학습을 위해 numeric 변수로 변환"
   ]
  },
  {
   "cell_type": "code",
   "execution_count": 80,
   "metadata": {
    "collapsed": true
   },
   "outputs": [],
   "source": [
    "fin_train_df = processed_train_df.apply(pd.to_numeric)\n",
    "df_y = df_y.apply(pd.to_numeric)"
   ]
  },
  {
   "cell_type": "code",
   "execution_count": 81,
   "metadata": {},
   "outputs": [
    {
     "data": {
      "text/plain": [
       "Index([  'tube_assembly_id',       'annual_usage', 'min_order_quantity',\n",
       "          'bracket_pricing',           'quantity',           'diameter',\n",
       "                     'wall',             'length',          'num_bends',\n",
       "              'bend_radius',           'num_boss',        'num_bracket',\n",
       "                    'other',               'year',              'month',\n",
       "                          0,                    1,                    2,\n",
       "                          3,                    4,                    5,\n",
       "                          6,                    7],\n",
       "      dtype='object')"
      ]
     },
     "execution_count": 81,
     "metadata": {},
     "output_type": "execute_result"
    }
   ],
   "source": [
    "fin_train_df.columns"
   ]
  },
  {
   "cell_type": "code",
   "execution_count": 75,
   "metadata": {},
   "outputs": [
    {
     "data": {
      "text/plain": [
       "Index([  'tube_assembly_id',       'annual_usage', 'min_order_quantity',\n",
       "          'bracket_pricing',           'quantity',           'diameter',\n",
       "                     'wall',             'length',          'num_bends',\n",
       "              'bend_radius',           'num_boss',        'num_bracket',\n",
       "                    'other',               'year',              'month',\n",
       "                          0,                    1,                    2,\n",
       "                          3,                    4,                    5,\n",
       "                          6,                    7],\n",
       "      dtype='object')"
      ]
     },
     "execution_count": 75,
     "metadata": {},
     "output_type": "execute_result"
    }
   ],
   "source": [
    "fin_test.columns"
   ]
  },
  {
   "cell_type": "code",
   "execution_count": 82,
   "metadata": {
    "collapsed": true
   },
   "outputs": [],
   "source": [
    "fin_test = processed_test_df.apply(pd.to_numeric)"
   ]
  },
  {
   "cell_type": "code",
   "execution_count": 83,
   "metadata": {
    "collapsed": true
   },
   "outputs": [],
   "source": [
    "# for RMSLE\n",
    "log_df_y = np.log1p(df_y) "
   ]
  },
  {
   "cell_type": "code",
   "execution_count": 109,
   "metadata": {
    "collapsed": true
   },
   "outputs": [],
   "source": [
    "fin_train_df.to_csv('my_train.csv', header = True, index = False)\n",
    "log_df_y.to_csv('my_log_df_y.csv', header = True, index = False)\n",
    "fin_test.to_csv('my_test.csv', header = True, index = False)"
   ]
  }
 ],
 "metadata": {
  "kernelspec": {
   "display_name": "Python 3",
   "language": "python",
   "name": "python3"
  },
  "language_info": {
   "codemirror_mode": {
    "name": "ipython",
    "version": 3
   },
   "file_extension": ".py",
   "mimetype": "text/x-python",
   "name": "python",
   "nbconvert_exporter": "python",
   "pygments_lexer": "ipython3",
   "version": "3.6.1"
  }
 },
 "nbformat": 4,
 "nbformat_minor": 2
}
