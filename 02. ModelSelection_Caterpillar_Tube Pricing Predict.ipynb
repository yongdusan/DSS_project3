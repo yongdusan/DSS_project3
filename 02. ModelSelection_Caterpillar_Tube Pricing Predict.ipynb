{
 "cells": [
  {
   "cell_type": "markdown",
   "metadata": {},
   "source": [
    "<img src=\"https://kaggle2.blob.core.windows.net/competitions/kaggle/4467/logos/front_page.png\", style=\"float:left;width:100px;height:50px;\">"
   ]
  },
  {
   "cell_type": "markdown",
   "metadata": {},
   "source": [
    "<img src=\"https://kaggle2.blob.core.windows.net/competitions/kaggle/4467/media/dozer.png\", style=\"float:left;width:400px;height:200px;\">\n",
    "\n",
    "- 건설 장비 업체. 각종 장비에 들어가는 tubing 의 가격 예측 모델 만들기\n",
    "- 평가: RMSLE (Root Mean Squared Logarithmic Error)\n",
    "- [kaggle link](https://www.kaggle.com/c/caterpillar-tube-pricing)"
   ]
  },
  {
   "cell_type": "code",
   "execution_count": 14,
   "metadata": {},
   "outputs": [],
   "source": [
    "# 기본 tool\n",
    "import pandas as pd \n",
    "import numpy as np\n",
    "import time\n",
    "#시각화\n",
    "from matplotlib import pyplot as plt\n",
    "# validation\n",
    "from sklearn.cross_validation import KFold\n",
    "from sklearn.model_selection import GridSearchCV \n",
    "from sklearn.model_selection import train_test_split\n",
    "from sklearn.metrics import mean_squared_error\n",
    "# model\n",
    "from sklearn.linear_model import LinearRegression\n",
    "from sklearn.ensemble import RandomForestRegressor\n",
    "import xgboost as xgb \n",
    "from xgboost.sklearn import XGBRegressor\n",
    "%matplotlib inline "
   ]
  },
  {
   "cell_type": "markdown",
   "metadata": {},
   "source": [
    "### Data Import"
   ]
  },
  {
   "cell_type": "code",
   "execution_count": 48,
   "metadata": {
    "collapsed": true
   },
   "outputs": [],
   "source": [
    "fin_train_df = pd.read_csv('my_train1.csv')\n",
    "log_df_y = pd.read_csv('my_log_df_y1.csv')\n",
    "fin_test = pd.read_csv('my_test1.csv')\n",
    "test_id = pd.read_pickle('test_id')"
   ]
  },
  {
   "cell_type": "markdown",
   "metadata": {},
   "source": [
    "### Model Selection"
   ]
  },
  {
   "cell_type": "code",
   "execution_count": 51,
   "metadata": {},
   "outputs": [],
   "source": [
    "X_train, X_val, y_train, y_val = train_test_split(fin_train_df, log_df_y, random_state=1)"
   ]
  },
  {
   "cell_type": "code",
   "execution_count": 18,
   "metadata": {
    "collapsed": true
   },
   "outputs": [],
   "source": [
    "# Grid Search CV\n",
    "def model_cv(train, test, train_y, test_y, model, name):\n",
    "    model.fit(train, train_y.values.ravel())\n",
    "    print(name,': ', model.best_params_)\n",
    "    pred_y = model.predict(test)\n",
    "    print('train r2 score: {}'.format(model.score(train, train_y)))\n",
    "    print('test r2 score: {}'.format(model.score(test, test_y)))\n",
    "    print('rmsle: {}'.format(mean_squared_error(test_y, pred_y)**0.5))"
   ]
  },
  {
   "cell_type": "code",
   "execution_count": 19,
   "metadata": {
    "collapsed": true
   },
   "outputs": [],
   "source": [
    "# Models \n",
    "def linearreg(train, test, train_y, test_y):\n",
    "    lr = LinearRegression()\n",
    "    param = [{'fit_intercept' : [True, False],\n",
    "              'normalize' : [True, False]\n",
    "             }]\n",
    "    model = GridSearchCV(lr, param, n_jobs = 4, cv=3, scoring = 'r2')\n",
    "    name = 'Linear Regression'\n",
    "    return model_cv(train, test, train_y, test_y, model, name)\n",
    "    \n",
    "def randomforest(train, test, train_y, test_y):\n",
    "    param = [{'n_estimators':[100, 300, 600, 1000, 3000],\n",
    "              'max_features': ['sqrt', 'log2']\n",
    "            }]\n",
    "    model = GridSearchCV(RandomForestRegressor(random_state=1), param, cv=3, scoring = 'r2')\n",
    "    name = 'Random forest'\n",
    "    return model_cv(train, test, y_train, y_val, model, name)\n",
    "\n",
    "def XGboost(train, test, train_y, test_y):\n",
    "    param = [{'n_estimators': [100, 300, 500, 1000],\n",
    "              'learning_rate': [0.01, 0.03, 0.06, 0.1],\n",
    "              'max_depth' : [3, 5, 7],\n",
    "              }]\n",
    "    model = GridSearchCV(XGBRegressor(), param, cv=3, scoring= 'r2')\n",
    "    name = 'XGBoost'\n",
    "    return model_cv(train, test, train_y, test_y, model, name)"
   ]
  },
  {
   "cell_type": "markdown",
   "metadata": {},
   "source": [
    "#### (1) Linear Regression"
   ]
  },
  {
   "cell_type": "code",
   "execution_count": 20,
   "metadata": {},
   "outputs": [
    {
     "name": "stdout",
     "output_type": "stream",
     "text": [
      "Linear Regression :  {'fit_intercept': True, 'normalize': False}\n",
      "train r2 score: 0.3797892982743528\n",
      "test r2 score: 0.3550870516981265\n",
      "rmsle: 0.6521024159340879\n",
      "Wall time: 11.5 s\n"
     ]
    }
   ],
   "source": [
    "%%time\n",
    "linearreg(X_train, X_val, y_train, y_val)"
   ]
  },
  {
   "cell_type": "markdown",
   "metadata": {
    "collapsed": true
   },
   "source": [
    "#### (2) Random Forest"
   ]
  },
  {
   "cell_type": "code",
   "execution_count": 21,
   "metadata": {},
   "outputs": [
    {
     "name": "stdout",
     "output_type": "stream",
     "text": [
      "Random forest :  {'max_features': 'sqrt', 'n_estimators': 3000}\n",
      "train r2 score: 0.9849900201455312\n",
      "test r2 score: 0.8991707358367956\n",
      "rmsle: 0.25784490832022156\n",
      "Wall time: 14min 2s\n"
     ]
    }
   ],
   "source": [
    "%%time\n",
    "randomforest(X_train, X_val, y_train, y_val)"
   ]
  },
  {
   "cell_type": "code",
   "execution_count": 22,
   "metadata": {},
   "outputs": [
    {
     "name": "stdout",
     "output_type": "stream",
     "text": [
      "Wall time: 1min 27s\n"
     ]
    }
   ],
   "source": [
    "%%time\n",
    "model_rf = RandomForestRegressor(n_estimators = 3000, max_features = 'sqrt')\n",
    "model_rf.fit(X_train, y_train.values.ravel())"
   ]
  },
  {
   "cell_type": "code",
   "execution_count": 23,
   "metadata": {
    "collapsed": true
   },
   "outputs": [],
   "source": [
    "pred_y_rf = model_rf.predict(fin_test)\n",
    "pred_y_rf = np.expm1(pred_y_rf)\n",
    "pred_y_rf = pd.DataFrame(pred_y_rf)\n",
    "submit_rf = pd.concat([test_id, pred_y_rf], axis = 1)\n",
    "submit_rf.columns = ['id', 'cost']\n",
    "# csv 파일로 작성\n",
    "submit_rf.to_csv('benchmark_rf2.csv', index=False)"
   ]
  },
  {
   "cell_type": "markdown",
   "metadata": {},
   "source": [
    "- 1차 제출 결과 (without Feature Engineering) 0.338756 \n",
    "- 2차 제출 결과 (with some Feature Engineering) 0.308647"
   ]
  },
  {
   "cell_type": "markdown",
   "metadata": {
    "collapsed": true
   },
   "source": [
    "#### (3) XGBoost"
   ]
  },
  {
   "cell_type": "code",
   "execution_count": 30,
   "metadata": {},
   "outputs": [
    {
     "name": "stdout",
     "output_type": "stream",
     "text": [
      "XGBoost :  {'learning_rate': 0.1, 'max_depth': 7, 'n_estimators': 1000}\n",
      "train r2 score: 0.9941441277812418\n",
      "test r2 score: 0.924606592565677\n",
      "rmsle: 0.22296256237811776\n",
      "Wall time: 5min 19s\n"
     ]
    }
   ],
   "source": [
    "%%time\n",
    "XGboost(X_train, X_val, y_train, y_val)"
   ]
  },
  {
   "cell_type": "code",
   "execution_count": 52,
   "metadata": {},
   "outputs": [],
   "source": [
    "model_xgb = XGBRegressor(max_depth = 7,\n",
    "                     n_estimators = 1000,\n",
    "                     learning_rate = 0.1)\n",
    "model_xgb.fit(X_train, y_train)\n",
    "pred_y_xgb = model_xgb.predict(fin_test)"
   ]
  },
  {
   "cell_type": "code",
   "execution_count": 53,
   "metadata": {},
   "outputs": [
    {
     "name": "stderr",
     "output_type": "stream",
     "text": [
      "Exception ignored in: <bound method DMatrix.__del__ of <xgboost.core.DMatrix object at 0x000001EE5F9AC358>>\n",
      "Traceback (most recent call last):\n",
      "  File \"C:\\Anaconda3\\lib\\site-packages\\xgboost\\core.py\", line 324, in __del__\n",
      "    _check_call(_LIB.XGDMatrixFree(self.handle))\n",
      "AttributeError: 'DMatrix' object has no attribute 'handle'\n"
     ]
    },
    {
     "data": {
      "text/plain": [
       "<matplotlib.axes._subplots.AxesSubplot at 0x1ee60a06be0>"
      ]
     },
     "execution_count": 53,
     "metadata": {},
     "output_type": "execute_result"
    },
    {
     "data": {
      "image/png": "[encoded data removed]",
      "text/plain": [
       "<matplotlib.figure.Figure at 0x1ee007c8f60>"
      ]
     },
     "metadata": {},
     "output_type": "display_data"
    }
   ],
   "source": [
    "xgb.plot_importance(model)"
   ]
  },
  {
   "cell_type": "code",
   "execution_count": 54,
   "metadata": {
    "collapsed": true
   },
   "outputs": [],
   "source": [
    "pred_y_xgb = np.expm1(pred_y_xgb)\n",
    "pred_y_xgb = pd.DataFrame(pred_y_xgb)\n",
    "submit_xgb = pd.concat([test_id, pred_y_xgb], axis = 1)\n",
    "submit_xgb.columns = ['id', 'cost']"
   ]
  },
  {
   "cell_type": "code",
   "execution_count": 55,
   "metadata": {
    "collapsed": true
   },
   "outputs": [],
   "source": [
    "submit_xgb.to_csv('benchmark_xgb2.csv', index=False)"
   ]
  },
  {
   "cell_type": "markdown",
   "metadata": {
    "collapsed": true
   },
   "source": [
    "- 1차 제출 결과 (without Feature Engineering) 0.329346\n",
    "- 2차 제출 결과 (with some Feature Engineering) 0.285000"
   ]
  },
  {
   "cell_type": "markdown",
   "metadata": {
    "collapsed": true
   },
   "source": [
    "### Conclusion"
   ]
  },
  {
   "cell_type": "markdown",
   "metadata": {},
   "source": [
    "1. 3가지 모델 중 선형 회귀 모델의 예측 결과값이 가장 좋지 않음 -> quote cost는 선형 모델이 아니라는 것을 알 수 있음.  \n",
    "   (현실 세계에 선형 모델은 많지 않음)  \n",
    "2. 주어진 변수에 전처리만 수행한 싱글 모델은 Feature engineering으로 일부 feature를 추가한 모델 대비 예측 결과값이 좋지 않았음  \n",
    "   - (특히 Kaggle Competition의 경우) 기존 도메인 지식 또는 EDA를 통해 다양한 가설을 세우고 그를 바탕으로 feature를 만드는 것이 Key point임.\n",
    "3. 결과값이 좋았던 XGBoost, Random Forest 의 hyper parameter를 조정하여 보다 다양한 모델을 조합하여 앙상블 모델을 만든다면 보다 좋은 예측 결과값을 얻을 수 있을 것임.  \n",
    "    (이 부분은 좀 더 학습 후 추후 보완할 예정.)"
   ]
  }
 ],
 "metadata": {
  "kernelspec": {
   "display_name": "Python 3",
   "language": "python",
   "name": "python3"
  },
  "language_info": {
   "codemirror_mode": {
    "name": "ipython",
    "version": 3
   },
   "file_extension": ".py",
   "mimetype": "text/x-python",
   "name": "python",
   "nbconvert_exporter": "python",
   "pygments_lexer": "ipython3",
   "version": "3.6.1"
  }
 },
 "nbformat": 4,
 "nbformat_minor": 2
}
