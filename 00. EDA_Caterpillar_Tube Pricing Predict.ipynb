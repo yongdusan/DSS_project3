{
 "cells": [
  {
   "cell_type": "markdown",
   "metadata": {},
   "source": [
    "<img src=\"https://kaggle2.blob.core.windows.net/competitions/kaggle/4467/logos/front_page.png\", style=\"float:left;width:100px;height:50px;\">"
   ]
  },
  {
   "cell_type": "code",
   "execution_count": 1,
   "metadata": {
    "collapsed": true
   },
   "outputs": [],
   "source": [
    "# 기본 tool\n",
    "import pandas as pd \n",
    "import numpy as np\n",
    "import time\n",
    "#시각화\n",
    "from matplotlib import pyplot as plt\n",
    "import seaborn as sns \n",
    "%matplotlib inline "
   ]
  },
  {
   "cell_type": "markdown",
   "metadata": {},
   "source": [
    "### Data Import"
   ]
  },
  {
   "cell_type": "code",
   "execution_count": 2,
   "metadata": {
    "collapsed": true
   },
   "outputs": [],
   "source": [
    "train = pd.read_csv('./input/train_set.csv', parse_dates=[2,]) # parse_datas: 연-월-일로 되어 있는 data를 분리하기 위해 \n",
    "test = pd.read_csv('./input/test_set.csv', parse_dates=[3,])\n",
    "tube_data = pd.read_csv('./input/tube.csv')\n",
    "bill_of_materials_data = pd.read_csv('./input/bill_of_materials.csv')\n",
    "specs_data = pd.read_csv('./input/specs.csv')\n",
    "tube_end = pd.read_csv('./input/tube_end_form.csv')\n",
    "comp = pd.read_csv('./input/components.csv')\n",
    "comp_adpt = pd.read_csv('./input/comp_adaptor.csv')\n",
    "comp_boss = pd.read_csv('./input/comp_boss.csv')\n",
    "comp_elbow = pd.read_csv('./input/comp_elbow.csv')\n",
    "comp_float = pd.read_csv('./input/comp_float.csv')\n",
    "comp_hfl = pd.read_csv('./input/comp_hfl.csv')\n",
    "comp_nut = pd.read_csv('./input/comp_nut.csv')\n",
    "comp_other = pd.read_csv('./input/comp_other.csv')\n",
    "comp_sleeve = pd.read_csv('./input/comp_sleeve.csv')\n",
    "comp_straight = pd.read_csv('./input/comp_straight.csv')\n",
    "comp_tee = pd.read_csv('./input/comp_tee.csv')\n",
    "comp_threaded = pd.read_csv('./input/comp_threaded.csv')"
   ]
  },
  {
   "cell_type": "markdown",
   "metadata": {},
   "source": [
    "### EDA + Feature engineering (model 돌려본 이후)\n",
    "#### (1) train, test dataset"
   ]
  },
  {
   "cell_type": "code",
   "execution_count": 3,
   "metadata": {
    "collapsed": true
   },
   "outputs": [],
   "source": [
    "def info(dataset):\n",
    "    print(\"* shape of dataset\")\n",
    "    print(dataset.shape)\n",
    "    print(\"------------------------------------------\")\n",
    "    print(\"* columns:\")\n",
    "    print(dataset.columns)\n",
    "    print(\"------------------------------------------\")\n",
    "    print(\"* brief information of dataframe:\")\n",
    "    print(dataset.info())"
   ]
  },
  {
   "cell_type": "code",
   "execution_count": 4,
   "metadata": {},
   "outputs": [
    {
     "name": "stdout",
     "output_type": "stream",
     "text": [
      "* shape of dataset\n",
      "(30213, 8)\n",
      "------------------------------------------\n",
      "* columns:\n",
      "Index(['tube_assembly_id', 'supplier', 'quote_date', 'annual_usage',\n",
      "       'min_order_quantity', 'bracket_pricing', 'quantity', 'cost'],\n",
      "      dtype='object')\n",
      "------------------------------------------\n",
      "* brief information of dataframe:\n",
      "<class 'pandas.core.frame.DataFrame'>\n",
      "RangeIndex: 30213 entries, 0 to 30212\n",
      "Data columns (total 8 columns):\n",
      "tube_assembly_id      30213 non-null object\n",
      "supplier              30213 non-null object\n",
      "quote_date            30213 non-null datetime64[ns]\n",
      "annual_usage          30213 non-null int64\n",
      "min_order_quantity    30213 non-null int64\n",
      "bracket_pricing       30213 non-null object\n",
      "quantity              30213 non-null int64\n",
      "cost                  30213 non-null float64\n",
      "dtypes: datetime64[ns](1), float64(1), int64(3), object(3)\n",
      "memory usage: 1.8+ MB\n",
      "None\n"
     ]
    }
   ],
   "source": [
    "info(train)"
   ]
  },
  {
   "cell_type": "code",
   "execution_count": 5,
   "metadata": {},
   "outputs": [
    {
     "name": "stdout",
     "output_type": "stream",
     "text": [
      "* shape of dataset\n",
      "(30235, 8)\n",
      "------------------------------------------\n",
      "* columns:\n",
      "Index(['id', 'tube_assembly_id', 'supplier', 'quote_date', 'annual_usage',\n",
      "       'min_order_quantity', 'bracket_pricing', 'quantity'],\n",
      "      dtype='object')\n",
      "------------------------------------------\n",
      "* brief information of dataframe:\n",
      "<class 'pandas.core.frame.DataFrame'>\n",
      "RangeIndex: 30235 entries, 0 to 30234\n",
      "Data columns (total 8 columns):\n",
      "id                    30235 non-null int64\n",
      "tube_assembly_id      30235 non-null object\n",
      "supplier              30235 non-null object\n",
      "quote_date            30235 non-null datetime64[ns]\n",
      "annual_usage          30235 non-null int64\n",
      "min_order_quantity    30235 non-null int64\n",
      "bracket_pricing       30235 non-null object\n",
      "quantity              30235 non-null int64\n",
      "dtypes: datetime64[ns](1), int64(4), object(3)\n",
      "memory usage: 1.8+ MB\n",
      "None\n"
     ]
    }
   ],
   "source": [
    "info(test)"
   ]
  },
  {
   "cell_type": "markdown",
   "metadata": {},
   "source": [
    "(train과 test dataset의 차이)\n",
    "- test dataset의 data 수가 조금 더 많음. (30213 vs 30235)\n",
    "- column 수는 같으나, test는 id, train은 cost 각각 포함. "
   ]
  },
  {
   "cell_type": "markdown",
   "metadata": {},
   "source": [
    "Train dataset부터 살펴보자.  \n",
    "a. category 변수 3개 (tube_assembly_id, supplier, bracket_pricing) 존재한다. 이들 먼저 살펴본다."
   ]
  },
  {
   "cell_type": "code",
   "execution_count": 6,
   "metadata": {},
   "outputs": [
    {
     "data": {
      "text/plain": [
       "TA-04788    14\n",
       "TA-04750    12\n",
       "TA-00199    10\n",
       "TA-19025     9\n",
       "TA-18998     9\n",
       "Name: tube_assembly_id, dtype: int64"
      ]
     },
     "execution_count": 6,
     "metadata": {},
     "output_type": "execute_result"
    }
   ],
   "source": [
    "train['tube_assembly_id'].value_counts().head()"
   ]
  },
  {
   "cell_type": "code",
   "execution_count": 7,
   "metadata": {},
   "outputs": [
    {
     "data": {
      "text/plain": [
       "count        30213\n",
       "unique        8855\n",
       "top       TA-04788\n",
       "freq            14\n",
       "Name: tube_assembly_id, dtype: object"
      ]
     },
     "execution_count": 7,
     "metadata": {},
     "output_type": "execute_result"
    }
   ],
   "source": [
    "train['tube_assembly_id'].describe() # 8855 종"
   ]
  },
  {
   "cell_type": "code",
   "execution_count": 8,
   "metadata": {},
   "outputs": [
    {
     "data": {
      "text/plain": [
       "S-0066    20553\n",
       "S-0041     3323\n",
       "S-0072     2317\n",
       "S-0054      838\n",
       "S-0026      727\n",
       "Name: supplier, dtype: int64"
      ]
     },
     "execution_count": 8,
     "metadata": {},
     "output_type": "execute_result"
    }
   ],
   "source": [
    "train['supplier'].value_counts().head()"
   ]
  },
  {
   "cell_type": "code",
   "execution_count": 9,
   "metadata": {},
   "outputs": [
    {
     "data": {
      "text/plain": [
       "count      30213\n",
       "unique        57\n",
       "top       S-0066\n",
       "freq       20553\n",
       "Name: supplier, dtype: object"
      ]
     },
     "execution_count": 9,
     "metadata": {},
     "output_type": "execute_result"
    }
   ],
   "source": [
    "train['supplier'].describe() # 공급처는 57개, S-0066의 비중이 큼"
   ]
  },
  {
   "cell_type": "code",
   "execution_count": 10,
   "metadata": {},
   "outputs": [
    {
     "data": {
      "text/plain": [
       "Yes    26283\n",
       "No      3930\n",
       "Name: bracket_pricing, dtype: int64"
      ]
     },
     "execution_count": 10,
     "metadata": {},
     "output_type": "execute_result"
    }
   ],
   "source": [
    "train['bracket_pricing'].value_counts() \n",
    "# bracket_pricing이 대부분 (약 7:1), Y or N 로 이산형 변수로 볼 수 있음"
   ]
  },
  {
   "cell_type": "code",
   "execution_count": 11,
   "metadata": {},
   "outputs": [
    {
     "data": {
      "image/png": "[encoded data removed]",
      "text/plain": [
       "<matplotlib.figure.Figure at 0x29d114e34a8>"
      ]
     },
     "metadata": {},
     "output_type": "display_data"
    }
   ],
   "source": [
    "sns.countplot(data=train, x=\"bracket_pricing\", palette=\"Blues_d\")\n",
    "plt.show()"
   ]
  },
  {
   "cell_type": "markdown",
   "metadata": {},
   "source": [
    "b. 양적 변수 (예측해야할 종속 변수 cost 포함하여 살펴봄)"
   ]
  },
  {
   "cell_type": "code",
   "execution_count": 12,
   "metadata": {},
   "outputs": [
    {
     "data": {
      "text/html": [
       "<div>\n",
       "<style>\n",
       "    .dataframe thead tr:only-child th {\n",
       "        text-align: right;\n",
       "    }\n",
       "\n",
       "    .dataframe thead th {\n",
       "        text-align: left;\n",
       "    }\n",
       "\n",
       "    .dataframe tbody tr th {\n",
       "        vertical-align: top;\n",
       "    }\n",
       "</style>\n",
       "<table border=\"1\" class=\"dataframe\">\n",
       "  <thead>\n",
       "    <tr style=\"text-align: right;\">\n",
       "      <th></th>\n",
       "      <th>annual_usage</th>\n",
       "      <th>min_order_quantity</th>\n",
       "      <th>quantity</th>\n",
       "      <th>cost</th>\n",
       "    </tr>\n",
       "  </thead>\n",
       "  <tbody>\n",
       "    <tr>\n",
       "      <th>count</th>\n",
       "      <td>30213.000000</td>\n",
       "      <td>30213.000000</td>\n",
       "      <td>30213.000000</td>\n",
       "      <td>30213.000000</td>\n",
       "    </tr>\n",
       "    <tr>\n",
       "      <th>mean</th>\n",
       "      <td>120.369377</td>\n",
       "      <td>2.084699</td>\n",
       "      <td>38.389369</td>\n",
       "      <td>13.433317</td>\n",
       "    </tr>\n",
       "    <tr>\n",
       "      <th>std</th>\n",
       "      <td>1590.331872</td>\n",
       "      <td>12.742776</td>\n",
       "      <td>70.761392</td>\n",
       "      <td>28.663200</td>\n",
       "    </tr>\n",
       "    <tr>\n",
       "      <th>min</th>\n",
       "      <td>0.000000</td>\n",
       "      <td>0.000000</td>\n",
       "      <td>1.000000</td>\n",
       "      <td>0.503553</td>\n",
       "    </tr>\n",
       "    <tr>\n",
       "      <th>25%</th>\n",
       "      <td>0.000000</td>\n",
       "      <td>0.000000</td>\n",
       "      <td>2.000000</td>\n",
       "      <td>3.878190</td>\n",
       "    </tr>\n",
       "    <tr>\n",
       "      <th>50%</th>\n",
       "      <td>0.000000</td>\n",
       "      <td>0.000000</td>\n",
       "      <td>10.000000</td>\n",
       "      <td>6.521146</td>\n",
       "    </tr>\n",
       "    <tr>\n",
       "      <th>75%</th>\n",
       "      <td>2.000000</td>\n",
       "      <td>0.000000</td>\n",
       "      <td>40.000000</td>\n",
       "      <td>13.431781</td>\n",
       "    </tr>\n",
       "    <tr>\n",
       "      <th>max</th>\n",
       "      <td>150000.000000</td>\n",
       "      <td>535.000000</td>\n",
       "      <td>2500.000000</td>\n",
       "      <td>1000.000000</td>\n",
       "    </tr>\n",
       "  </tbody>\n",
       "</table>\n",
       "</div>"
      ],
      "text/plain": [
       "        annual_usage  min_order_quantity      quantity          cost\n",
       "count   30213.000000        30213.000000  30213.000000  30213.000000\n",
       "mean      120.369377            2.084699     38.389369     13.433317\n",
       "std      1590.331872           12.742776     70.761392     28.663200\n",
       "min         0.000000            0.000000      1.000000      0.503553\n",
       "25%         0.000000            0.000000      2.000000      3.878190\n",
       "50%         0.000000            0.000000     10.000000      6.521146\n",
       "75%         2.000000            0.000000     40.000000     13.431781\n",
       "max    150000.000000          535.000000   2500.000000   1000.000000"
      ]
     },
     "execution_count": 12,
     "metadata": {},
     "output_type": "execute_result"
    }
   ],
   "source": [
    "train.describe()"
   ]
  },
  {
   "cell_type": "code",
   "execution_count": 13,
   "metadata": {},
   "outputs": [
    {
     "data": {
      "text/html": [
       "<div>\n",
       "<style>\n",
       "    .dataframe thead tr:only-child th {\n",
       "        text-align: right;\n",
       "    }\n",
       "\n",
       "    .dataframe thead th {\n",
       "        text-align: left;\n",
       "    }\n",
       "\n",
       "    .dataframe tbody tr th {\n",
       "        vertical-align: top;\n",
       "    }\n",
       "</style>\n",
       "<table border=\"1\" class=\"dataframe\">\n",
       "  <thead>\n",
       "    <tr style=\"text-align: right;\">\n",
       "      <th></th>\n",
       "      <th>cost</th>\n",
       "      <th>annual_usage</th>\n",
       "      <th>min_order_quantity</th>\n",
       "      <th>quantity</th>\n",
       "    </tr>\n",
       "  </thead>\n",
       "  <tbody>\n",
       "    <tr>\n",
       "      <th>0</th>\n",
       "      <td>21.905933</td>\n",
       "      <td>0</td>\n",
       "      <td>0</td>\n",
       "      <td>1</td>\n",
       "    </tr>\n",
       "    <tr>\n",
       "      <th>1</th>\n",
       "      <td>12.341214</td>\n",
       "      <td>0</td>\n",
       "      <td>0</td>\n",
       "      <td>2</td>\n",
       "    </tr>\n",
       "    <tr>\n",
       "      <th>2</th>\n",
       "      <td>6.601826</td>\n",
       "      <td>0</td>\n",
       "      <td>0</td>\n",
       "      <td>5</td>\n",
       "    </tr>\n",
       "    <tr>\n",
       "      <th>3</th>\n",
       "      <td>4.687770</td>\n",
       "      <td>0</td>\n",
       "      <td>0</td>\n",
       "      <td>10</td>\n",
       "    </tr>\n",
       "    <tr>\n",
       "      <th>4</th>\n",
       "      <td>3.541561</td>\n",
       "      <td>0</td>\n",
       "      <td>0</td>\n",
       "      <td>25</td>\n",
       "    </tr>\n",
       "  </tbody>\n",
       "</table>\n",
       "</div>"
      ],
      "text/plain": [
       "        cost  annual_usage  min_order_quantity  quantity\n",
       "0  21.905933             0                   0         1\n",
       "1  12.341214             0                   0         2\n",
       "2   6.601826             0                   0         5\n",
       "3   4.687770             0                   0        10\n",
       "4   3.541561             0                   0        25"
      ]
     },
     "execution_count": 13,
     "metadata": {},
     "output_type": "execute_result"
    }
   ],
   "source": [
    "quan_col = [\"cost\", \"annual_usage\", \"min_order_quantity\", \"quantity\"]\n",
    "train_quan = train[quan_col]\n",
    "train_quan.head()"
   ]
  },
  {
   "cell_type": "code",
   "execution_count": 14,
   "metadata": {},
   "outputs": [
    {
     "data": {
      "text/plain": [
       "<seaborn.axisgrid.PairGrid at 0x29d11ff9e10>"
      ]
     },
     "execution_count": 14,
     "metadata": {},
     "output_type": "execute_result"
    },
    {
     "data": {
      "image/png": "[encoded data removed]",
      "text/plain": [
       "<matplotlib.figure.Figure at 0x29d12037a90>"
      ]
     },
     "metadata": {},
     "output_type": "display_data"
    }
   ],
   "source": [
    "# cost를 비롯한 변수 간의 분포 시각화 \n",
    "sns.pairplot(train_quan)"
   ]
  },
  {
   "cell_type": "code",
   "execution_count": 15,
   "metadata": {},
   "outputs": [
    {
     "data": {
      "image/png": "[encoded data removed]",
      "text/plain": [
       "<matplotlib.figure.Figure at 0x29d1521c710>"
      ]
     },
     "metadata": {},
     "output_type": "display_data"
    }
   ],
   "source": [
    "sns.distplot(train['cost'],bins=20, kde=False)\n",
    "plt.show()"
   ]
  },
  {
   "cell_type": "markdown",
   "metadata": {},
   "source": [
    "- 대부분의 cost는 낮은 값(15$ 이하)에 몰려있다."
   ]
  },
  {
   "cell_type": "code",
   "execution_count": 16,
   "metadata": {},
   "outputs": [
    {
     "data": {
      "text/plain": [
       "<seaborn.axisgrid.JointGrid at 0x29d1522e2b0>"
      ]
     },
     "execution_count": 16,
     "metadata": {},
     "output_type": "execute_result"
    },
    {
     "data": {
      "image/png": "[encoded data removed]",
      "text/plain": [
       "<matplotlib.figure.Figure at 0x29d1522e0f0>"
      ]
     },
     "metadata": {},
     "output_type": "display_data"
    }
   ],
   "source": [
    "sns.jointplot(x=\"quantity\", y=\"min_order_quantity\", data=train)"
   ]
  },
  {
   "cell_type": "markdown",
   "metadata": {},
   "source": [
    "- min_order_quantity가 커지면 quantity가 커져야 하나, 그렇지 않은 경우도 있다. \n",
    "  견적은 2가지로 매겨진다. (bracket & non-bracket)\n",
    "  - Bracket: 구매양에 따라 여러 단계로 견적.  \n",
    "  - Non-bracket: 최소 주문량이 있다. 각 견적은 해당 연도의 소모량에 따른 예상 구매량에 따라 작성됨. \n",
    "- Non-bracket의 경우라면 구매량은 최소 주문량 이상이어야 한다."
   ]
  },
  {
   "cell_type": "markdown",
   "metadata": {},
   "source": [
    "min_order_quantity 보다 작은 quantity는 min_order_quantity와 같도록 변경해준다."
   ]
  },
  {
   "cell_type": "code",
   "execution_count": 17,
   "metadata": {
    "collapsed": true
   },
   "outputs": [],
   "source": [
    "train['rev_qty'] = pd.Series()\n",
    "train['rev_qty'] = [train['min_order_quantity'][i] if train['quantity'][i] < train['min_order_quantity'][i] else train['quantity'][i] for i in range(len(train))]"
   ]
  },
  {
   "cell_type": "code",
   "execution_count": 20,
   "metadata": {},
   "outputs": [
    {
     "data": {
      "text/plain": [
       "(30213, 9)"
      ]
     },
     "execution_count": 20,
     "metadata": {},
     "output_type": "execute_result"
    }
   ],
   "source": [
    "train.shape"
   ]
  },
  {
   "cell_type": "code",
   "execution_count": 21,
   "metadata": {
    "collapsed": true
   },
   "outputs": [],
   "source": [
    "test['rev_qty'] = pd.Series()\n",
    "test['rev_qty'] = [test['min_order_quantity'][i] if test['quantity'][i] < test['min_order_quantity'][i] else test['quantity'][i] for i in range(len(test))]"
   ]
  },
  {
   "cell_type": "code",
   "execution_count": 22,
   "metadata": {},
   "outputs": [
    {
     "data": {
      "text/plain": [
       "(30235, 9)"
      ]
     },
     "execution_count": 22,
     "metadata": {},
     "output_type": "execute_result"
    }
   ],
   "source": [
    "test.shape"
   ]
  },
  {
   "cell_type": "code",
   "execution_count": 23,
   "metadata": {},
   "outputs": [
    {
     "data": {
      "text/plain": [
       "<seaborn.axisgrid.JointGrid at 0x29d1585e240>"
      ]
     },
     "execution_count": 23,
     "metadata": {},
     "output_type": "execute_result"
    },
    {
     "data": {
      "image/png": "[encoded data removed]",
      "text/plain": [
       "<matplotlib.figure.Figure at 0x29d15792f60>"
      ]
     },
     "metadata": {},
     "output_type": "display_data"
    }
   ],
   "source": [
    "sns.jointplot(x=\"min_order_quantity\", y=\"rev_qty\", data=train)"
   ]
  },
  {
   "cell_type": "code",
   "execution_count": 28,
   "metadata": {
    "collapsed": true
   },
   "outputs": [],
   "source": [
    "# quantity, min_order_quantity 제거\n",
    "train_rev = train.drop(['quantity', 'min_order_quantity'], axis = 1)"
   ]
  },
  {
   "cell_type": "code",
   "execution_count": 30,
   "metadata": {
    "collapsed": true
   },
   "outputs": [],
   "source": [
    "test_rev = test.drop(['quantity', 'min_order_quantity'], axis = 1)"
   ]
  },
  {
   "cell_type": "markdown",
   "metadata": {},
   "source": [
    "c. date 정보"
   ]
  },
  {
   "cell_type": "markdown",
   "metadata": {},
   "source": [
    "하루 단위로 특징을 잡기에는 범위가 너무 넓다. -> 연, 월로만 본다면?"
   ]
  },
  {
   "cell_type": "code",
   "execution_count": 33,
   "metadata": {
    "collapsed": true
   },
   "outputs": [],
   "source": [
    "# quote_date feature를 각각 year, month, day 정보로 분리하고, quote_date는 drop\n",
    "train_rev['year'] = train_rev.quote_date.dt.year\n",
    "train_rev['month'] = train_rev.quote_date.dt.month\n",
    "train_rev['day'] = train_rev.quote_date.dt.day"
   ]
  },
  {
   "cell_type": "code",
   "execution_count": 34,
   "metadata": {
    "collapsed": true
   },
   "outputs": [],
   "source": [
    "test_rev['year'] = test_rev.quote_date.dt.year\n",
    "test_rev['month'] = test_rev.quote_date.dt.month\n",
    "test_rev['day'] = test_rev.quote_date.dt.day"
   ]
  },
  {
   "cell_type": "code",
   "execution_count": 35,
   "metadata": {},
   "outputs": [
    {
     "data": {
      "text/plain": [
       "[<matplotlib.text.Text at 0x29d151b8080>]"
      ]
     },
     "execution_count": 35,
     "metadata": {},
     "output_type": "execute_result"
    },
    {
     "data": {
      "image/png": "[encoded data removed]",
      "text/plain": [
       "<matplotlib.figure.Figure at 0x29d159696a0>"
      ]
     },
     "metadata": {},
     "output_type": "display_data"
    }
   ],
   "source": [
    "fig,ax = plt.subplots()\n",
    "fig.set_size_inches(20,5)\n",
    "sns.countplot(color=\"#34495e\", data=train_rev, x=\"year\", ax=ax)\n",
    "ax.set(xlabel='quote_date')"
   ]
  },
  {
   "cell_type": "code",
   "execution_count": 36,
   "metadata": {},
   "outputs": [
    {
     "data": {
      "text/plain": [
       "[<matplotlib.text.Text at 0x29d152e5668>]"
      ]
     },
     "execution_count": 36,
     "metadata": {},
     "output_type": "execute_result"
    },
    {
     "data": {
      "image/png": "[encoded data removed]",
      "text/plain": [
       "<matplotlib.figure.Figure at 0x29d15969ac8>"
      ]
     },
     "metadata": {},
     "output_type": "display_data"
    }
   ],
   "source": [
    "fig,ax = plt.subplots()\n",
    "fig.set_size_inches(20,5)\n",
    "sns.countplot(color=\"#34495e\", data=train_rev, x=\"month\", ax=ax)\n",
    "ax.set(xlabel='quote_date')"
   ]
  },
  {
   "cell_type": "code",
   "execution_count": 37,
   "metadata": {},
   "outputs": [
    {
     "data": {
      "text/plain": [
       "[<matplotlib.text.Text at 0x29d15d29518>]"
      ]
     },
     "execution_count": 37,
     "metadata": {},
     "output_type": "execute_result"
    },
    {
     "data": {
      "image/png": "[encoded data removed]",
      "text/plain": [
       "<matplotlib.figure.Figure at 0x29d15969198>"
      ]
     },
     "metadata": {},
     "output_type": "display_data"
    }
   ],
   "source": [
    "fig,ax = plt.subplots()\n",
    "fig.set_size_inches(20,5)\n",
    "sns.countplot(color=\"#34495e\", data=train_rev, x=\"day\", ax=ax)\n",
    "ax.set(xlabel='quote_date')\n",
    "# 대부분의 data가 1일에 치중 -> var. 낮다. 통계적으로 의미??"
   ]
  },
  {
   "cell_type": "code",
   "execution_count": 39,
   "metadata": {
    "collapsed": true
   },
   "outputs": [],
   "source": [
    "train_rev = train_rev.drop(['day'], axis = 1)\n",
    "test_rev = test_rev.drop(['day'], axis = 1)"
   ]
  },
  {
   "cell_type": "markdown",
   "metadata": {},
   "source": [
    "(가정) 업체와 거래 자주 하였다면, 견적가가 상대적으로 낮을 수 있다."
   ]
  },
  {
   "cell_type": "code",
   "execution_count": 43,
   "metadata": {
    "collapsed": true
   },
   "outputs": [],
   "source": [
    "freq_supp = train_rev.groupby('supplier')['quote_date'].nunique()\n",
    "freq_supp = freq_supp.reset_index()\n",
    "freq_supp.columns = ['supplier', 'freq_supp']\n",
    "\n",
    "train_rev = pd.merge(train_rev, freq_supp, on = 'supplier', how = 'left')\n",
    "test_rev = pd.merge(test_rev, freq_supp, on = 'supplier', how = 'left')\n",
    "train_rev = train_rev.drop(['quote_date'], axis = 1)\n",
    "test_rev = test_rev.drop(['quote_date'], axis = 1)"
   ]
  },
  {
   "cell_type": "markdown",
   "metadata": {},
   "source": [
    "(가정) TA 별로 공급하는 업체가 많다면, 경쟁입찰 가능하여 견적가가 낮을 것이다."
   ]
  },
  {
   "cell_type": "code",
   "execution_count": 53,
   "metadata": {},
   "outputs": [
    {
     "data": {
      "text/plain": [
       "8855"
      ]
     },
     "execution_count": 53,
     "metadata": {},
     "output_type": "execute_result"
    }
   ],
   "source": [
    "len(train_rev.tube_assembly_id.value_counts()) # TA 종류 8855 가지"
   ]
  },
  {
   "cell_type": "code",
   "execution_count": 54,
   "metadata": {
    "collapsed": true
   },
   "outputs": [],
   "source": [
    "b = train_rev.groupby(['tube_assembly_id', 'supplier'])\n",
    "len(b.size())\n",
    "# TA, supplier 별 8908 가지 조합. -> 대부분의 TA는 특정 업체에서 공급한다 (경쟁입찰 비중 매우 낮음)"
   ]
  },
  {
   "cell_type": "markdown",
   "metadata": {},
   "source": [
    "pickle로 train_rev 저장"
   ]
  },
  {
   "cell_type": "code",
   "execution_count": 56,
   "metadata": {
    "collapsed": true
   },
   "outputs": [],
   "source": [
    "pd.to_pickle(train_rev, 'train_rev')\n",
    "pd.to_pickle(test_rev, 'test_rev')"
   ]
  },
  {
   "cell_type": "markdown",
   "metadata": {},
   "source": [
    "#### (2) tube_data"
   ]
  },
  {
   "cell_type": "markdown",
   "metadata": {},
   "source": [
    "- end_a, end_x와 같은 category 변수를 dummy화 시키고, PCA로 차원 축소하였으나 해석이 쉽지 않았음  \n",
    "  따라서, end_a, end_x의 form_id 대신 forming 여부로 대체"
   ]
  },
  {
   "cell_type": "code",
   "execution_count": 59,
   "metadata": {
    "collapsed": true
   },
   "outputs": [],
   "source": [
    "tube_data = pd.merge(tube_data, tube_end, left_on='end_a', right_on='end_form_id')\n",
    "tube_data = pd.merge(tube_data, tube_end, left_on='end_x', right_on='end_form_id')\n",
    "tube_data['forming_x'].rename('end_a_forming')\n",
    "tube_data['forming_y'].rename('end_x_forming')\n",
    "tube_data = tube_data.drop(['end_a', 'end_x', 'end_form_id_x', 'end_form_id_y'], axis=1)"
   ]
  },
  {
   "cell_type": "code",
   "execution_count": 62,
   "metadata": {},
   "outputs": [
    {
     "name": "stdout",
     "output_type": "stream",
     "text": [
      "* shape of dataset\n",
      "(19587, 16)\n",
      "------------------------------------------\n",
      "* columns:\n",
      "Index(['tube_assembly_id', 'material_id', 'diameter', 'wall', 'length',\n",
      "       'num_bends', 'bend_radius', 'end_a_1x', 'end_a_2x', 'end_x_1x',\n",
      "       'end_x_2x', 'num_boss', 'num_bracket', 'other', 'forming_x',\n",
      "       'forming_y'],\n",
      "      dtype='object')\n",
      "------------------------------------------\n",
      "* brief information of dataframe:\n",
      "<class 'pandas.core.frame.DataFrame'>\n",
      "Int64Index: 19587 entries, 0 to 19586\n",
      "Data columns (total 16 columns):\n",
      "tube_assembly_id    19587 non-null object\n",
      "material_id         19322 non-null object\n",
      "diameter            19587 non-null float64\n",
      "wall                19587 non-null float64\n",
      "length              19587 non-null float64\n",
      "num_bends           19587 non-null int64\n",
      "bend_radius         19587 non-null float64\n",
      "end_a_1x            19587 non-null object\n",
      "end_a_2x            19587 non-null object\n",
      "end_x_1x            19587 non-null object\n",
      "end_x_2x            19587 non-null object\n",
      "num_boss            19587 non-null int64\n",
      "num_bracket         19587 non-null int64\n",
      "other               19587 non-null int64\n",
      "forming_x           19587 non-null object\n",
      "forming_y           19587 non-null object\n",
      "dtypes: float64(4), int64(4), object(8)\n",
      "memory usage: 2.5+ MB\n",
      "None\n"
     ]
    }
   ],
   "source": [
    "info(tube_data)"
   ]
  },
  {
   "cell_type": "code",
   "execution_count": 63,
   "metadata": {},
   "outputs": [
    {
     "data": {
      "text/html": [
       "<div>\n",
       "<style>\n",
       "    .dataframe thead tr:only-child th {\n",
       "        text-align: right;\n",
       "    }\n",
       "\n",
       "    .dataframe thead th {\n",
       "        text-align: left;\n",
       "    }\n",
       "\n",
       "    .dataframe tbody tr th {\n",
       "        vertical-align: top;\n",
       "    }\n",
       "</style>\n",
       "<table border=\"1\" class=\"dataframe\">\n",
       "  <thead>\n",
       "    <tr style=\"text-align: right;\">\n",
       "      <th></th>\n",
       "      <th>diameter</th>\n",
       "      <th>wall</th>\n",
       "      <th>length</th>\n",
       "      <th>num_bends</th>\n",
       "      <th>bend_radius</th>\n",
       "      <th>num_boss</th>\n",
       "      <th>num_bracket</th>\n",
       "      <th>other</th>\n",
       "    </tr>\n",
       "  </thead>\n",
       "  <tbody>\n",
       "    <tr>\n",
       "      <th>count</th>\n",
       "      <td>19587.000000</td>\n",
       "      <td>19587.000000</td>\n",
       "      <td>19587.000000</td>\n",
       "      <td>19587.000000</td>\n",
       "      <td>19587.000000</td>\n",
       "      <td>19587.000000</td>\n",
       "      <td>19587.000000</td>\n",
       "      <td>19587.000000</td>\n",
       "    </tr>\n",
       "    <tr>\n",
       "      <th>mean</th>\n",
       "      <td>22.318861</td>\n",
       "      <td>1.557433</td>\n",
       "      <td>100.502306</td>\n",
       "      <td>3.808853</td>\n",
       "      <td>45.518185</td>\n",
       "      <td>0.040333</td>\n",
       "      <td>0.004646</td>\n",
       "      <td>0.019707</td>\n",
       "    </tr>\n",
       "    <tr>\n",
       "      <th>std</th>\n",
       "      <td>23.783537</td>\n",
       "      <td>0.697500</td>\n",
       "      <td>71.032694</td>\n",
       "      <td>2.259694</td>\n",
       "      <td>145.931433</td>\n",
       "      <td>0.252844</td>\n",
       "      <td>0.088262</td>\n",
       "      <td>0.192581</td>\n",
       "    </tr>\n",
       "    <tr>\n",
       "      <th>min</th>\n",
       "      <td>4.760000</td>\n",
       "      <td>0.710000</td>\n",
       "      <td>0.000000</td>\n",
       "      <td>0.000000</td>\n",
       "      <td>0.000000</td>\n",
       "      <td>0.000000</td>\n",
       "      <td>0.000000</td>\n",
       "      <td>0.000000</td>\n",
       "    </tr>\n",
       "    <tr>\n",
       "      <th>25%</th>\n",
       "      <td>9.520000</td>\n",
       "      <td>0.890000</td>\n",
       "      <td>48.000000</td>\n",
       "      <td>2.000000</td>\n",
       "      <td>19.050000</td>\n",
       "      <td>0.000000</td>\n",
       "      <td>0.000000</td>\n",
       "      <td>0.000000</td>\n",
       "    </tr>\n",
       "    <tr>\n",
       "      <th>50%</th>\n",
       "      <td>15.880000</td>\n",
       "      <td>1.650000</td>\n",
       "      <td>86.000000</td>\n",
       "      <td>3.000000</td>\n",
       "      <td>38.100000</td>\n",
       "      <td>0.000000</td>\n",
       "      <td>0.000000</td>\n",
       "      <td>0.000000</td>\n",
       "    </tr>\n",
       "    <tr>\n",
       "      <th>75%</th>\n",
       "      <td>25.400000</td>\n",
       "      <td>1.650000</td>\n",
       "      <td>135.000000</td>\n",
       "      <td>5.000000</td>\n",
       "      <td>50.800000</td>\n",
       "      <td>0.000000</td>\n",
       "      <td>0.000000</td>\n",
       "      <td>0.000000</td>\n",
       "    </tr>\n",
       "    <tr>\n",
       "      <th>max</th>\n",
       "      <td>203.200000</td>\n",
       "      <td>7.900000</td>\n",
       "      <td>1333.000000</td>\n",
       "      <td>17.000000</td>\n",
       "      <td>9999.000000</td>\n",
       "      <td>5.000000</td>\n",
       "      <td>5.000000</td>\n",
       "      <td>8.000000</td>\n",
       "    </tr>\n",
       "  </tbody>\n",
       "</table>\n",
       "</div>"
      ],
      "text/plain": [
       "           diameter          wall        length     num_bends   bend_radius  \\\n",
       "count  19587.000000  19587.000000  19587.000000  19587.000000  19587.000000   \n",
       "mean      22.318861      1.557433    100.502306      3.808853     45.518185   \n",
       "std       23.783537      0.697500     71.032694      2.259694    145.931433   \n",
       "min        4.760000      0.710000      0.000000      0.000000      0.000000   \n",
       "25%        9.520000      0.890000     48.000000      2.000000     19.050000   \n",
       "50%       15.880000      1.650000     86.000000      3.000000     38.100000   \n",
       "75%       25.400000      1.650000    135.000000      5.000000     50.800000   \n",
       "max      203.200000      7.900000   1333.000000     17.000000   9999.000000   \n",
       "\n",
       "           num_boss   num_bracket         other  \n",
       "count  19587.000000  19587.000000  19587.000000  \n",
       "mean       0.040333      0.004646      0.019707  \n",
       "std        0.252844      0.088262      0.192581  \n",
       "min        0.000000      0.000000      0.000000  \n",
       "25%        0.000000      0.000000      0.000000  \n",
       "50%        0.000000      0.000000      0.000000  \n",
       "75%        0.000000      0.000000      0.000000  \n",
       "max        5.000000      5.000000      8.000000  "
      ]
     },
     "execution_count": 63,
     "metadata": {},
     "output_type": "execute_result"
    }
   ],
   "source": [
    "tube_data.describe()"
   ]
  },
  {
   "cell_type": "markdown",
   "metadata": {},
   "source": [
    "length 0, bend_radius 9999 는 이상치로 보임. -> 전처리 필요!"
   ]
  },
  {
   "cell_type": "code",
   "execution_count": 64,
   "metadata": {},
   "outputs": [
    {
     "name": "stdout",
     "output_type": "stream",
     "text": [
      "----------------------------------------\n",
      "count       19322\n",
      "unique         19\n",
      "top       SP-0029\n",
      "freq        10667\n",
      "Name: material_id, dtype: object\n",
      "['SP-0035' 'SP-0029' 'SP-0028' 'SP-0037' 'SP-0046' 'SP-0019' 'SP-0039' nan\n",
      " 'SP-0044' 'SP-0048' 'SP-0038' 'SP-0033' 'SP-0034' 'SP-0032' 'SP-0031'\n",
      " 'SP-0036' 'SP-0030' 'SP-0041' 'SP-0008' 'SP-0045']\n",
      "----------------------------------------\n",
      "count     19587\n",
      "unique        2\n",
      "top           N\n",
      "freq      18682\n",
      "Name: end_a_1x, dtype: object\n",
      "['N' 'Y']\n",
      "----------------------------------------\n",
      "count     19587\n",
      "unique        2\n",
      "top           N\n",
      "freq      16798\n",
      "Name: end_a_2x, dtype: object\n",
      "['N' 'Y']\n",
      "----------------------------------------\n",
      "count     19587\n",
      "unique        2\n",
      "top           N\n",
      "freq      18909\n",
      "Name: end_x_1x, dtype: object\n",
      "['N' 'Y']\n",
      "----------------------------------------\n",
      "count     19587\n",
      "unique        2\n",
      "top           N\n",
      "freq      17208\n",
      "Name: end_x_2x, dtype: object\n",
      "['N' 'Y']\n"
     ]
    }
   ],
   "source": [
    "tube_col = ['material_id', 'end_a_1x', 'end_a_2x', 'end_x_1x', 'end_x_2x']\n",
    "for i in tube_col:\n",
    "    print('-'*40)\n",
    "    print(tube_data[i].describe())\n",
    "    print(tube_data[i].unique())"
   ]
  },
  {
   "cell_type": "code",
   "execution_count": 65,
   "metadata": {},
   "outputs": [
    {
     "data": {
      "text/plain": [
       "tube_assembly_id      0\n",
       "material_id         265\n",
       "diameter              0\n",
       "wall                  0\n",
       "length                0\n",
       "num_bends             0\n",
       "bend_radius           0\n",
       "end_a_1x              0\n",
       "end_a_2x              0\n",
       "end_x_1x              0\n",
       "end_x_2x              0\n",
       "num_boss              0\n",
       "num_bracket           0\n",
       "other                 0\n",
       "forming_x             0\n",
       "forming_y             0\n",
       "dtype: int64"
      ]
     },
     "execution_count": 65,
     "metadata": {},
     "output_type": "execute_result"
    }
   ],
   "source": [
    "tube_data.isnull().sum()\n",
    "# material_id에 결측값이 존재 -> 후에 전처리 필요!"
   ]
  },
  {
   "cell_type": "code",
   "execution_count": 66,
   "metadata": {
    "collapsed": true
   },
   "outputs": [],
   "source": [
    "pd.to_pickle(tube_data, 'tube_data')"
   ]
  },
  {
   "cell_type": "markdown",
   "metadata": {},
   "source": [
    "#### (4) BOM data\n",
    "tube assembly를 이루는 componenet의 id와 개수를 알려줌. (comp.는 최대 8가지)"
   ]
  },
  {
   "cell_type": "code",
   "execution_count": 67,
   "metadata": {},
   "outputs": [
    {
     "data": {
      "text/html": [
       "<div>\n",
       "<style>\n",
       "    .dataframe thead tr:only-child th {\n",
       "        text-align: right;\n",
       "    }\n",
       "\n",
       "    .dataframe thead th {\n",
       "        text-align: left;\n",
       "    }\n",
       "\n",
       "    .dataframe tbody tr th {\n",
       "        vertical-align: top;\n",
       "    }\n",
       "</style>\n",
       "<table border=\"1\" class=\"dataframe\">\n",
       "  <thead>\n",
       "    <tr style=\"text-align: right;\">\n",
       "      <th></th>\n",
       "      <th>tube_assembly_id</th>\n",
       "      <th>component_id_1</th>\n",
       "      <th>quantity_1</th>\n",
       "      <th>component_id_2</th>\n",
       "      <th>quantity_2</th>\n",
       "      <th>component_id_3</th>\n",
       "      <th>quantity_3</th>\n",
       "      <th>component_id_4</th>\n",
       "      <th>quantity_4</th>\n",
       "      <th>component_id_5</th>\n",
       "      <th>quantity_5</th>\n",
       "      <th>component_id_6</th>\n",
       "      <th>quantity_6</th>\n",
       "      <th>component_id_7</th>\n",
       "      <th>quantity_7</th>\n",
       "      <th>component_id_8</th>\n",
       "      <th>quantity_8</th>\n",
       "    </tr>\n",
       "  </thead>\n",
       "  <tbody>\n",
       "    <tr>\n",
       "      <th>21193</th>\n",
       "      <td>TA-21195</td>\n",
       "      <td>C-1373</td>\n",
       "      <td>1.0</td>\n",
       "      <td>NaN</td>\n",
       "      <td>NaN</td>\n",
       "      <td>NaN</td>\n",
       "      <td>NaN</td>\n",
       "      <td>NaN</td>\n",
       "      <td>NaN</td>\n",
       "      <td>NaN</td>\n",
       "      <td>NaN</td>\n",
       "      <td>NaN</td>\n",
       "      <td>NaN</td>\n",
       "      <td>NaN</td>\n",
       "      <td>NaN</td>\n",
       "      <td>NaN</td>\n",
       "      <td>NaN</td>\n",
       "    </tr>\n",
       "    <tr>\n",
       "      <th>21194</th>\n",
       "      <td>TA-21196</td>\n",
       "      <td>C-1364</td>\n",
       "      <td>1.0</td>\n",
       "      <td>NaN</td>\n",
       "      <td>NaN</td>\n",
       "      <td>NaN</td>\n",
       "      <td>NaN</td>\n",
       "      <td>NaN</td>\n",
       "      <td>NaN</td>\n",
       "      <td>NaN</td>\n",
       "      <td>NaN</td>\n",
       "      <td>NaN</td>\n",
       "      <td>NaN</td>\n",
       "      <td>NaN</td>\n",
       "      <td>NaN</td>\n",
       "      <td>NaN</td>\n",
       "      <td>NaN</td>\n",
       "    </tr>\n",
       "    <tr>\n",
       "      <th>21195</th>\n",
       "      <td>TA-21197</td>\n",
       "      <td>C-1733</td>\n",
       "      <td>1.0</td>\n",
       "      <td>NaN</td>\n",
       "      <td>NaN</td>\n",
       "      <td>NaN</td>\n",
       "      <td>NaN</td>\n",
       "      <td>NaN</td>\n",
       "      <td>NaN</td>\n",
       "      <td>NaN</td>\n",
       "      <td>NaN</td>\n",
       "      <td>NaN</td>\n",
       "      <td>NaN</td>\n",
       "      <td>NaN</td>\n",
       "      <td>NaN</td>\n",
       "      <td>NaN</td>\n",
       "      <td>NaN</td>\n",
       "    </tr>\n",
       "    <tr>\n",
       "      <th>21196</th>\n",
       "      <td>TA-21198</td>\n",
       "      <td>NaN</td>\n",
       "      <td>NaN</td>\n",
       "      <td>NaN</td>\n",
       "      <td>NaN</td>\n",
       "      <td>NaN</td>\n",
       "      <td>NaN</td>\n",
       "      <td>NaN</td>\n",
       "      <td>NaN</td>\n",
       "      <td>NaN</td>\n",
       "      <td>NaN</td>\n",
       "      <td>NaN</td>\n",
       "      <td>NaN</td>\n",
       "      <td>NaN</td>\n",
       "      <td>NaN</td>\n",
       "      <td>NaN</td>\n",
       "      <td>NaN</td>\n",
       "    </tr>\n",
       "    <tr>\n",
       "      <th>21197</th>\n",
       "      <td>TA-21199</td>\n",
       "      <td>NaN</td>\n",
       "      <td>NaN</td>\n",
       "      <td>NaN</td>\n",
       "      <td>NaN</td>\n",
       "      <td>NaN</td>\n",
       "      <td>NaN</td>\n",
       "      <td>NaN</td>\n",
       "      <td>NaN</td>\n",
       "      <td>NaN</td>\n",
       "      <td>NaN</td>\n",
       "      <td>NaN</td>\n",
       "      <td>NaN</td>\n",
       "      <td>NaN</td>\n",
       "      <td>NaN</td>\n",
       "      <td>NaN</td>\n",
       "      <td>NaN</td>\n",
       "    </tr>\n",
       "  </tbody>\n",
       "</table>\n",
       "</div>"
      ],
      "text/plain": [
       "      tube_assembly_id component_id_1  quantity_1 component_id_2  quantity_2  \\\n",
       "21193         TA-21195         C-1373         1.0            NaN         NaN   \n",
       "21194         TA-21196         C-1364         1.0            NaN         NaN   \n",
       "21195         TA-21197         C-1733         1.0            NaN         NaN   \n",
       "21196         TA-21198            NaN         NaN            NaN         NaN   \n",
       "21197         TA-21199            NaN         NaN            NaN         NaN   \n",
       "\n",
       "      component_id_3  quantity_3 component_id_4  quantity_4 component_id_5  \\\n",
       "21193            NaN         NaN            NaN         NaN            NaN   \n",
       "21194            NaN         NaN            NaN         NaN            NaN   \n",
       "21195            NaN         NaN            NaN         NaN            NaN   \n",
       "21196            NaN         NaN            NaN         NaN            NaN   \n",
       "21197            NaN         NaN            NaN         NaN            NaN   \n",
       "\n",
       "       quantity_5 component_id_6  quantity_6 component_id_7  quantity_7  \\\n",
       "21193         NaN            NaN         NaN            NaN         NaN   \n",
       "21194         NaN            NaN         NaN            NaN         NaN   \n",
       "21195         NaN            NaN         NaN            NaN         NaN   \n",
       "21196         NaN            NaN         NaN            NaN         NaN   \n",
       "21197         NaN            NaN         NaN            NaN         NaN   \n",
       "\n",
       "      component_id_8  quantity_8  \n",
       "21193            NaN         NaN  \n",
       "21194            NaN         NaN  \n",
       "21195            NaN         NaN  \n",
       "21196            NaN         NaN  \n",
       "21197            NaN         NaN  "
      ]
     },
     "execution_count": 67,
     "metadata": {},
     "output_type": "execute_result"
    }
   ],
   "source": [
    "bill_of_materials_data.tail()"
   ]
  },
  {
   "cell_type": "code",
   "execution_count": 68,
   "metadata": {},
   "outputs": [
    {
     "data": {
      "text/html": [
       "<div>\n",
       "<style>\n",
       "    .dataframe thead tr:only-child th {\n",
       "        text-align: right;\n",
       "    }\n",
       "\n",
       "    .dataframe thead th {\n",
       "        text-align: left;\n",
       "    }\n",
       "\n",
       "    .dataframe tbody tr th {\n",
       "        vertical-align: top;\n",
       "    }\n",
       "</style>\n",
       "<table border=\"1\" class=\"dataframe\">\n",
       "  <thead>\n",
       "    <tr style=\"text-align: right;\">\n",
       "      <th></th>\n",
       "      <th>component_id</th>\n",
       "      <th>name</th>\n",
       "      <th>component_type_id</th>\n",
       "    </tr>\n",
       "  </thead>\n",
       "  <tbody>\n",
       "    <tr>\n",
       "      <th>2043</th>\n",
       "      <td>C-2043</td>\n",
       "      <td>FLANGE</td>\n",
       "      <td>CP-004</td>\n",
       "    </tr>\n",
       "    <tr>\n",
       "      <th>2044</th>\n",
       "      <td>C-2044</td>\n",
       "      <td>ADAPTER-INLET</td>\n",
       "      <td>CP-006</td>\n",
       "    </tr>\n",
       "    <tr>\n",
       "      <th>2045</th>\n",
       "      <td>C-2045</td>\n",
       "      <td>ADAPTER-INLET</td>\n",
       "      <td>OTHER</td>\n",
       "    </tr>\n",
       "    <tr>\n",
       "      <th>2046</th>\n",
       "      <td>C-2046</td>\n",
       "      <td>SLEEVE</td>\n",
       "      <td>OTHER</td>\n",
       "    </tr>\n",
       "    <tr>\n",
       "      <th>2047</th>\n",
       "      <td>C-2047</td>\n",
       "      <td>FLANGE</td>\n",
       "      <td>OTHER</td>\n",
       "    </tr>\n",
       "  </tbody>\n",
       "</table>\n",
       "</div>"
      ],
      "text/plain": [
       "     component_id           name component_type_id\n",
       "2043       C-2043         FLANGE            CP-004\n",
       "2044       C-2044  ADAPTER-INLET            CP-006\n",
       "2045       C-2045  ADAPTER-INLET             OTHER\n",
       "2046       C-2046         SLEEVE             OTHER\n",
       "2047       C-2047         FLANGE             OTHER"
      ]
     },
     "execution_count": 68,
     "metadata": {},
     "output_type": "execute_result"
    }
   ],
   "source": [
    "comp.tail()"
   ]
  },
  {
   "cell_type": "markdown",
   "metadata": {},
   "source": [
    "component의 weight 정보 활용"
   ]
  },
  {
   "cell_type": "code",
   "execution_count": 69,
   "metadata": {
    "collapsed": true
   },
   "outputs": [],
   "source": [
    "comp_total = pd.concat([comp_adpt, comp_boss, comp_float, comp_hfl, comp_nut, comp_other, comp_sleeve, comp_straight, comp_tee, comp_threaded])\n",
    "comp = pd.merge(left = comp, right = comp_total, on = 'component_id', how = 'left')\n",
    "\n",
    "comp_weight = comp.drop(['name', 'component_type_id_x', 'adaptor_angle', 'base_diameter', 'base_type', 'blind_hole', 'bolt_pattern_long',\n",
    "       'bolt_pattern_wide', 'component_type_id_y', 'connection_type_id',\n",
    "       'connection_type_id_1', 'connection_type_id_2', 'connection_type_id_3',\n",
    "       'connection_type_id_4', 'corresponding_shell', 'coupling_class',\n",
    "       'diameter', 'drop_length', 'end_form_id_1', 'end_form_id_2',\n",
    "       'end_form_id_3', 'end_form_id_4', 'extension_length', 'groove',\n",
    "       'head_diameter', 'height_over_tube', 'hex_nut_size', 'hex_size',\n",
    "       'hose_diameter', 'intended_nut_pitch', 'intended_nut_thread', 'length',\n",
    "       'length_1', 'length_2', 'length_3', 'length_4', 'material',\n",
    "       'mj_class_code', 'mj_plug_class_code', 'nominal_size_1',\n",
    "       'nominal_size_2', 'nominal_size_3', 'nominal_size_4', 'orientation',\n",
    "       'outside_shape', 'overall_length', 'part_name', 'plating', 'seat_angle',\n",
    "       'shoulder_diameter', 'thickness', 'thread_pitch', 'thread_pitch_1',\n",
    "       'thread_pitch_2', 'thread_pitch_3', 'thread_pitch_4', 'thread_size',\n",
    "       'thread_size_1', 'thread_size_2', 'thread_size_3', 'thread_size_4',\n",
    "       'type', 'unique_feature'], axis = 1)\n",
    "\n",
    "bom_weight = pd.merge(left = bill_of_materials_data, right = comp_weight, left_on = 'component_id_1', right_on = 'component_id', how = 'left')\n",
    "bom_weight = bom_weight.assign(weight1 = lambda x: bom_weight['weight'] * bom_weight['quantity_1'])\n",
    "bom_weight = bom_weight.drop(['component_id', 'component_id_1', 'quantity_1', 'weight'], axis=1)\n",
    "bom_weight = pd.merge(left = bom_weight, right = comp_weight, left_on = 'component_id_2', right_on = 'component_id', how = 'left')\n",
    "bom_weight = bom_weight.assign(weight2 = lambda x: bom_weight['weight'] * bom_weight['quantity_2'])\n",
    "bom_weight = bom_weight.drop(['component_id', 'component_id_2', 'quantity_2', 'weight'], axis=1)\n",
    "bom_weight = pd.merge(left = bom_weight, right = comp_weight, left_on = 'component_id_3', right_on = 'component_id', how = 'left')\n",
    "bom_weight = bom_weight.assign(weight3 = lambda x: bom_weight['weight'] * bom_weight['quantity_3'])\n",
    "bom_weight = bom_weight.drop(['component_id', 'component_id_3', 'quantity_3', 'weight'], axis=1)\n",
    "bom_weight = pd.merge(left = bom_weight, right = comp_weight, left_on = 'component_id_4', right_on = 'component_id', how = 'left')\n",
    "bom_weight = bom_weight.assign(weight4 = lambda x: bom_weight['weight'] * bom_weight['quantity_4'])\n",
    "bom_weight = bom_weight.drop(['component_id', 'component_id_4', 'quantity_4', 'weight'], axis=1)\n",
    "bom_weight = pd.merge(left = bom_weight, right = comp_weight, left_on = 'component_id_5', right_on = 'component_id', how = 'left')\n",
    "bom_weight = bom_weight.assign(weight5 = lambda x: bom_weight['weight'] * bom_weight['quantity_5'])\n",
    "bom_weight = bom_weight.drop(['component_id', 'component_id_5', 'quantity_5', 'weight'], axis=1)\n",
    "bom_weight = pd.merge(left = bom_weight, right = comp_weight, left_on = 'component_id_6', right_on = 'component_id', how = 'left')\n",
    "bom_weight = bom_weight.assign(weight6 = lambda x: bom_weight['weight'] * bom_weight['quantity_6'])\n",
    "bom_weight = bom_weight.drop(['component_id', 'component_id_6', 'quantity_6', 'weight'], axis=1)\n",
    "bom_weight = pd.merge(left = bom_weight, right = comp_weight, left_on = 'component_id_7', right_on = 'component_id', how = 'left')\n",
    "bom_weight = bom_weight.assign(weight7 = lambda x: bom_weight['weight'] * bom_weight['quantity_7'])\n",
    "bom_weight = bom_weight.drop(['component_id', 'component_id_7', 'quantity_7', 'weight'], axis=1)\n",
    "bom_weight = pd.merge(left = bom_weight, right = comp_weight, left_on = 'component_id_8', right_on = 'component_id', how = 'left')\n",
    "bom_weight = bom_weight.assign(weight8 = lambda x: bom_weight['weight'] * bom_weight['quantity_8'])\n",
    "bom_weight = bom_weight.drop(['component_id', 'component_id_8', 'quantity_8', 'weight'], axis=1)"
   ]
  },
  {
   "cell_type": "markdown",
   "metadata": {},
   "source": [
    "bom_weight = bom_weight.fillna(0)\n",
    "bom_weight = bom_weight.assign(comp_sum_weight = lambda x: bom_weight['weight1'] + bom_weight['weight2']+ bom_weight['weight3']+ bom_weight['weight4']+ bom_weight['weight5']+ bom_weight['weight6']+ bom_weight['weight7']+ bom_weight['weight8'])\n",
    "bom_weight = bom_weight.drop(['weight1', 'weight2', 'weight3', 'weight4', 'weight5', 'weight6', 'weight7', 'weight8'], axis=1)"
   ]
  },
  {
   "cell_type": "code",
   "execution_count": 74,
   "metadata": {
    "collapsed": true
   },
   "outputs": [],
   "source": [
    "pd.to_pickle(bom_weight, 'bom_weight')"
   ]
  },
  {
   "cell_type": "markdown",
   "metadata": {},
   "source": [
    "#### (4) Specs data"
   ]
  },
  {
   "cell_type": "code",
   "execution_count": 75,
   "metadata": {},
   "outputs": [
    {
     "data": {
      "text/html": [
       "<div>\n",
       "<style>\n",
       "    .dataframe thead tr:only-child th {\n",
       "        text-align: right;\n",
       "    }\n",
       "\n",
       "    .dataframe thead th {\n",
       "        text-align: left;\n",
       "    }\n",
       "\n",
       "    .dataframe tbody tr th {\n",
       "        vertical-align: top;\n",
       "    }\n",
       "</style>\n",
       "<table border=\"1\" class=\"dataframe\">\n",
       "  <thead>\n",
       "    <tr style=\"text-align: right;\">\n",
       "      <th></th>\n",
       "      <th>tube_assembly_id</th>\n",
       "      <th>spec1</th>\n",
       "      <th>spec2</th>\n",
       "      <th>spec3</th>\n",
       "      <th>spec4</th>\n",
       "      <th>spec5</th>\n",
       "      <th>spec6</th>\n",
       "      <th>spec7</th>\n",
       "      <th>spec8</th>\n",
       "      <th>spec9</th>\n",
       "      <th>spec10</th>\n",
       "    </tr>\n",
       "  </thead>\n",
       "  <tbody>\n",
       "    <tr>\n",
       "      <th>0</th>\n",
       "      <td>TA-00001</td>\n",
       "      <td>NaN</td>\n",
       "      <td>NaN</td>\n",
       "      <td>NaN</td>\n",
       "      <td>NaN</td>\n",
       "      <td>NaN</td>\n",
       "      <td>NaN</td>\n",
       "      <td>NaN</td>\n",
       "      <td>NaN</td>\n",
       "      <td>NaN</td>\n",
       "      <td>NaN</td>\n",
       "    </tr>\n",
       "    <tr>\n",
       "      <th>1</th>\n",
       "      <td>TA-00002</td>\n",
       "      <td>NaN</td>\n",
       "      <td>NaN</td>\n",
       "      <td>NaN</td>\n",
       "      <td>NaN</td>\n",
       "      <td>NaN</td>\n",
       "      <td>NaN</td>\n",
       "      <td>NaN</td>\n",
       "      <td>NaN</td>\n",
       "      <td>NaN</td>\n",
       "      <td>NaN</td>\n",
       "    </tr>\n",
       "    <tr>\n",
       "      <th>2</th>\n",
       "      <td>TA-00003</td>\n",
       "      <td>NaN</td>\n",
       "      <td>NaN</td>\n",
       "      <td>NaN</td>\n",
       "      <td>NaN</td>\n",
       "      <td>NaN</td>\n",
       "      <td>NaN</td>\n",
       "      <td>NaN</td>\n",
       "      <td>NaN</td>\n",
       "      <td>NaN</td>\n",
       "      <td>NaN</td>\n",
       "    </tr>\n",
       "    <tr>\n",
       "      <th>3</th>\n",
       "      <td>TA-00004</td>\n",
       "      <td>NaN</td>\n",
       "      <td>NaN</td>\n",
       "      <td>NaN</td>\n",
       "      <td>NaN</td>\n",
       "      <td>NaN</td>\n",
       "      <td>NaN</td>\n",
       "      <td>NaN</td>\n",
       "      <td>NaN</td>\n",
       "      <td>NaN</td>\n",
       "      <td>NaN</td>\n",
       "    </tr>\n",
       "    <tr>\n",
       "      <th>4</th>\n",
       "      <td>TA-00005</td>\n",
       "      <td>NaN</td>\n",
       "      <td>NaN</td>\n",
       "      <td>NaN</td>\n",
       "      <td>NaN</td>\n",
       "      <td>NaN</td>\n",
       "      <td>NaN</td>\n",
       "      <td>NaN</td>\n",
       "      <td>NaN</td>\n",
       "      <td>NaN</td>\n",
       "      <td>NaN</td>\n",
       "    </tr>\n",
       "    <tr>\n",
       "      <th>5</th>\n",
       "      <td>TA-00006</td>\n",
       "      <td>NaN</td>\n",
       "      <td>NaN</td>\n",
       "      <td>NaN</td>\n",
       "      <td>NaN</td>\n",
       "      <td>NaN</td>\n",
       "      <td>NaN</td>\n",
       "      <td>NaN</td>\n",
       "      <td>NaN</td>\n",
       "      <td>NaN</td>\n",
       "      <td>NaN</td>\n",
       "    </tr>\n",
       "    <tr>\n",
       "      <th>6</th>\n",
       "      <td>TA-00007</td>\n",
       "      <td>NaN</td>\n",
       "      <td>NaN</td>\n",
       "      <td>NaN</td>\n",
       "      <td>NaN</td>\n",
       "      <td>NaN</td>\n",
       "      <td>NaN</td>\n",
       "      <td>NaN</td>\n",
       "      <td>NaN</td>\n",
       "      <td>NaN</td>\n",
       "      <td>NaN</td>\n",
       "    </tr>\n",
       "    <tr>\n",
       "      <th>7</th>\n",
       "      <td>TA-00008</td>\n",
       "      <td>NaN</td>\n",
       "      <td>NaN</td>\n",
       "      <td>NaN</td>\n",
       "      <td>NaN</td>\n",
       "      <td>NaN</td>\n",
       "      <td>NaN</td>\n",
       "      <td>NaN</td>\n",
       "      <td>NaN</td>\n",
       "      <td>NaN</td>\n",
       "      <td>NaN</td>\n",
       "    </tr>\n",
       "    <tr>\n",
       "      <th>8</th>\n",
       "      <td>TA-00009</td>\n",
       "      <td>NaN</td>\n",
       "      <td>NaN</td>\n",
       "      <td>NaN</td>\n",
       "      <td>NaN</td>\n",
       "      <td>NaN</td>\n",
       "      <td>NaN</td>\n",
       "      <td>NaN</td>\n",
       "      <td>NaN</td>\n",
       "      <td>NaN</td>\n",
       "      <td>NaN</td>\n",
       "    </tr>\n",
       "    <tr>\n",
       "      <th>9</th>\n",
       "      <td>TA-00010</td>\n",
       "      <td>NaN</td>\n",
       "      <td>NaN</td>\n",
       "      <td>NaN</td>\n",
       "      <td>NaN</td>\n",
       "      <td>NaN</td>\n",
       "      <td>NaN</td>\n",
       "      <td>NaN</td>\n",
       "      <td>NaN</td>\n",
       "      <td>NaN</td>\n",
       "      <td>NaN</td>\n",
       "    </tr>\n",
       "    <tr>\n",
       "      <th>10</th>\n",
       "      <td>TA-00011</td>\n",
       "      <td>NaN</td>\n",
       "      <td>NaN</td>\n",
       "      <td>NaN</td>\n",
       "      <td>NaN</td>\n",
       "      <td>NaN</td>\n",
       "      <td>NaN</td>\n",
       "      <td>NaN</td>\n",
       "      <td>NaN</td>\n",
       "      <td>NaN</td>\n",
       "      <td>NaN</td>\n",
       "    </tr>\n",
       "    <tr>\n",
       "      <th>11</th>\n",
       "      <td>TA-00012</td>\n",
       "      <td>NaN</td>\n",
       "      <td>NaN</td>\n",
       "      <td>NaN</td>\n",
       "      <td>NaN</td>\n",
       "      <td>NaN</td>\n",
       "      <td>NaN</td>\n",
       "      <td>NaN</td>\n",
       "      <td>NaN</td>\n",
       "      <td>NaN</td>\n",
       "      <td>NaN</td>\n",
       "    </tr>\n",
       "    <tr>\n",
       "      <th>12</th>\n",
       "      <td>TA-00013</td>\n",
       "      <td>SP-0004</td>\n",
       "      <td>SP-0069</td>\n",
       "      <td>SP-0080</td>\n",
       "      <td>NaN</td>\n",
       "      <td>NaN</td>\n",
       "      <td>NaN</td>\n",
       "      <td>NaN</td>\n",
       "      <td>NaN</td>\n",
       "      <td>NaN</td>\n",
       "      <td>NaN</td>\n",
       "    </tr>\n",
       "    <tr>\n",
       "      <th>13</th>\n",
       "      <td>TA-00014</td>\n",
       "      <td>NaN</td>\n",
       "      <td>NaN</td>\n",
       "      <td>NaN</td>\n",
       "      <td>NaN</td>\n",
       "      <td>NaN</td>\n",
       "      <td>NaN</td>\n",
       "      <td>NaN</td>\n",
       "      <td>NaN</td>\n",
       "      <td>NaN</td>\n",
       "      <td>NaN</td>\n",
       "    </tr>\n",
       "    <tr>\n",
       "      <th>14</th>\n",
       "      <td>TA-00015</td>\n",
       "      <td>SP-0063</td>\n",
       "      <td>SP-0069</td>\n",
       "      <td>SP-0080</td>\n",
       "      <td>NaN</td>\n",
       "      <td>NaN</td>\n",
       "      <td>NaN</td>\n",
       "      <td>NaN</td>\n",
       "      <td>NaN</td>\n",
       "      <td>NaN</td>\n",
       "      <td>NaN</td>\n",
       "    </tr>\n",
       "    <tr>\n",
       "      <th>15</th>\n",
       "      <td>TA-00016</td>\n",
       "      <td>NaN</td>\n",
       "      <td>NaN</td>\n",
       "      <td>NaN</td>\n",
       "      <td>NaN</td>\n",
       "      <td>NaN</td>\n",
       "      <td>NaN</td>\n",
       "      <td>NaN</td>\n",
       "      <td>NaN</td>\n",
       "      <td>NaN</td>\n",
       "      <td>NaN</td>\n",
       "    </tr>\n",
       "    <tr>\n",
       "      <th>16</th>\n",
       "      <td>TA-00017</td>\n",
       "      <td>NaN</td>\n",
       "      <td>NaN</td>\n",
       "      <td>NaN</td>\n",
       "      <td>NaN</td>\n",
       "      <td>NaN</td>\n",
       "      <td>NaN</td>\n",
       "      <td>NaN</td>\n",
       "      <td>NaN</td>\n",
       "      <td>NaN</td>\n",
       "      <td>NaN</td>\n",
       "    </tr>\n",
       "    <tr>\n",
       "      <th>17</th>\n",
       "      <td>TA-00018</td>\n",
       "      <td>SP-0007</td>\n",
       "      <td>SP-0058</td>\n",
       "      <td>SP-0070</td>\n",
       "      <td>SP-0080</td>\n",
       "      <td>NaN</td>\n",
       "      <td>NaN</td>\n",
       "      <td>NaN</td>\n",
       "      <td>NaN</td>\n",
       "      <td>NaN</td>\n",
       "      <td>NaN</td>\n",
       "    </tr>\n",
       "    <tr>\n",
       "      <th>18</th>\n",
       "      <td>TA-00019</td>\n",
       "      <td>SP-0080</td>\n",
       "      <td>NaN</td>\n",
       "      <td>NaN</td>\n",
       "      <td>NaN</td>\n",
       "      <td>NaN</td>\n",
       "      <td>NaN</td>\n",
       "      <td>NaN</td>\n",
       "      <td>NaN</td>\n",
       "      <td>NaN</td>\n",
       "      <td>NaN</td>\n",
       "    </tr>\n",
       "    <tr>\n",
       "      <th>19</th>\n",
       "      <td>TA-00020</td>\n",
       "      <td>SP-0057</td>\n",
       "      <td>SP-0067</td>\n",
       "      <td>SP-0080</td>\n",
       "      <td>NaN</td>\n",
       "      <td>NaN</td>\n",
       "      <td>NaN</td>\n",
       "      <td>NaN</td>\n",
       "      <td>NaN</td>\n",
       "      <td>NaN</td>\n",
       "      <td>NaN</td>\n",
       "    </tr>\n",
       "    <tr>\n",
       "      <th>20</th>\n",
       "      <td>TA-00021</td>\n",
       "      <td>SP-0057</td>\n",
       "      <td>SP-0067</td>\n",
       "      <td>SP-0080</td>\n",
       "      <td>NaN</td>\n",
       "      <td>NaN</td>\n",
       "      <td>NaN</td>\n",
       "      <td>NaN</td>\n",
       "      <td>NaN</td>\n",
       "      <td>NaN</td>\n",
       "      <td>NaN</td>\n",
       "    </tr>\n",
       "    <tr>\n",
       "      <th>21</th>\n",
       "      <td>TA-00022</td>\n",
       "      <td>SP-0012</td>\n",
       "      <td>SP-0026</td>\n",
       "      <td>SP-0063</td>\n",
       "      <td>SP-0080</td>\n",
       "      <td>NaN</td>\n",
       "      <td>NaN</td>\n",
       "      <td>NaN</td>\n",
       "      <td>NaN</td>\n",
       "      <td>NaN</td>\n",
       "      <td>NaN</td>\n",
       "    </tr>\n",
       "    <tr>\n",
       "      <th>22</th>\n",
       "      <td>TA-00023</td>\n",
       "      <td>NaN</td>\n",
       "      <td>NaN</td>\n",
       "      <td>NaN</td>\n",
       "      <td>NaN</td>\n",
       "      <td>NaN</td>\n",
       "      <td>NaN</td>\n",
       "      <td>NaN</td>\n",
       "      <td>NaN</td>\n",
       "      <td>NaN</td>\n",
       "      <td>NaN</td>\n",
       "    </tr>\n",
       "    <tr>\n",
       "      <th>23</th>\n",
       "      <td>TA-00024</td>\n",
       "      <td>NaN</td>\n",
       "      <td>NaN</td>\n",
       "      <td>NaN</td>\n",
       "      <td>NaN</td>\n",
       "      <td>NaN</td>\n",
       "      <td>NaN</td>\n",
       "      <td>NaN</td>\n",
       "      <td>NaN</td>\n",
       "      <td>NaN</td>\n",
       "      <td>NaN</td>\n",
       "    </tr>\n",
       "    <tr>\n",
       "      <th>24</th>\n",
       "      <td>TA-00025</td>\n",
       "      <td>NaN</td>\n",
       "      <td>NaN</td>\n",
       "      <td>NaN</td>\n",
       "      <td>NaN</td>\n",
       "      <td>NaN</td>\n",
       "      <td>NaN</td>\n",
       "      <td>NaN</td>\n",
       "      <td>NaN</td>\n",
       "      <td>NaN</td>\n",
       "      <td>NaN</td>\n",
       "    </tr>\n",
       "    <tr>\n",
       "      <th>25</th>\n",
       "      <td>TA-00026</td>\n",
       "      <td>NaN</td>\n",
       "      <td>NaN</td>\n",
       "      <td>NaN</td>\n",
       "      <td>NaN</td>\n",
       "      <td>NaN</td>\n",
       "      <td>NaN</td>\n",
       "      <td>NaN</td>\n",
       "      <td>NaN</td>\n",
       "      <td>NaN</td>\n",
       "      <td>NaN</td>\n",
       "    </tr>\n",
       "    <tr>\n",
       "      <th>26</th>\n",
       "      <td>TA-00027</td>\n",
       "      <td>NaN</td>\n",
       "      <td>NaN</td>\n",
       "      <td>NaN</td>\n",
       "      <td>NaN</td>\n",
       "      <td>NaN</td>\n",
       "      <td>NaN</td>\n",
       "      <td>NaN</td>\n",
       "      <td>NaN</td>\n",
       "      <td>NaN</td>\n",
       "      <td>NaN</td>\n",
       "    </tr>\n",
       "    <tr>\n",
       "      <th>27</th>\n",
       "      <td>TA-00028</td>\n",
       "      <td>SP-0007</td>\n",
       "      <td>SP-0070</td>\n",
       "      <td>SP-0080</td>\n",
       "      <td>NaN</td>\n",
       "      <td>NaN</td>\n",
       "      <td>NaN</td>\n",
       "      <td>NaN</td>\n",
       "      <td>NaN</td>\n",
       "      <td>NaN</td>\n",
       "      <td>NaN</td>\n",
       "    </tr>\n",
       "    <tr>\n",
       "      <th>28</th>\n",
       "      <td>TA-00029</td>\n",
       "      <td>NaN</td>\n",
       "      <td>NaN</td>\n",
       "      <td>NaN</td>\n",
       "      <td>NaN</td>\n",
       "      <td>NaN</td>\n",
       "      <td>NaN</td>\n",
       "      <td>NaN</td>\n",
       "      <td>NaN</td>\n",
       "      <td>NaN</td>\n",
       "      <td>NaN</td>\n",
       "    </tr>\n",
       "    <tr>\n",
       "      <th>29</th>\n",
       "      <td>TA-00030</td>\n",
       "      <td>NaN</td>\n",
       "      <td>NaN</td>\n",
       "      <td>NaN</td>\n",
       "      <td>NaN</td>\n",
       "      <td>NaN</td>\n",
       "      <td>NaN</td>\n",
       "      <td>NaN</td>\n",
       "      <td>NaN</td>\n",
       "      <td>NaN</td>\n",
       "      <td>NaN</td>\n",
       "    </tr>\n",
       "    <tr>\n",
       "      <th>...</th>\n",
       "      <td>...</td>\n",
       "      <td>...</td>\n",
       "      <td>...</td>\n",
       "      <td>...</td>\n",
       "      <td>...</td>\n",
       "      <td>...</td>\n",
       "      <td>...</td>\n",
       "      <td>...</td>\n",
       "      <td>...</td>\n",
       "      <td>...</td>\n",
       "      <td>...</td>\n",
       "    </tr>\n",
       "    <tr>\n",
       "      <th>21168</th>\n",
       "      <td>TA-21170</td>\n",
       "      <td>SP-0063</td>\n",
       "      <td>SP-0080</td>\n",
       "      <td>NaN</td>\n",
       "      <td>NaN</td>\n",
       "      <td>NaN</td>\n",
       "      <td>NaN</td>\n",
       "      <td>NaN</td>\n",
       "      <td>NaN</td>\n",
       "      <td>NaN</td>\n",
       "      <td>NaN</td>\n",
       "    </tr>\n",
       "    <tr>\n",
       "      <th>21169</th>\n",
       "      <td>TA-21171</td>\n",
       "      <td>SP-0026</td>\n",
       "      <td>SP-0058</td>\n",
       "      <td>SP-0070</td>\n",
       "      <td>SP-0080</td>\n",
       "      <td>NaN</td>\n",
       "      <td>NaN</td>\n",
       "      <td>NaN</td>\n",
       "      <td>NaN</td>\n",
       "      <td>NaN</td>\n",
       "      <td>NaN</td>\n",
       "    </tr>\n",
       "    <tr>\n",
       "      <th>21170</th>\n",
       "      <td>TA-21172</td>\n",
       "      <td>SP-0026</td>\n",
       "      <td>SP-0058</td>\n",
       "      <td>SP-0070</td>\n",
       "      <td>SP-0080</td>\n",
       "      <td>NaN</td>\n",
       "      <td>NaN</td>\n",
       "      <td>NaN</td>\n",
       "      <td>NaN</td>\n",
       "      <td>NaN</td>\n",
       "      <td>NaN</td>\n",
       "    </tr>\n",
       "    <tr>\n",
       "      <th>21171</th>\n",
       "      <td>TA-21173</td>\n",
       "      <td>SP-0070</td>\n",
       "      <td>SP-0080</td>\n",
       "      <td>NaN</td>\n",
       "      <td>NaN</td>\n",
       "      <td>NaN</td>\n",
       "      <td>NaN</td>\n",
       "      <td>NaN</td>\n",
       "      <td>NaN</td>\n",
       "      <td>NaN</td>\n",
       "      <td>NaN</td>\n",
       "    </tr>\n",
       "    <tr>\n",
       "      <th>21172</th>\n",
       "      <td>TA-21174</td>\n",
       "      <td>SP-0058</td>\n",
       "      <td>SP-0080</td>\n",
       "      <td>NaN</td>\n",
       "      <td>NaN</td>\n",
       "      <td>NaN</td>\n",
       "      <td>NaN</td>\n",
       "      <td>NaN</td>\n",
       "      <td>NaN</td>\n",
       "      <td>NaN</td>\n",
       "      <td>NaN</td>\n",
       "    </tr>\n",
       "    <tr>\n",
       "      <th>21173</th>\n",
       "      <td>TA-21175</td>\n",
       "      <td>SP-0058</td>\n",
       "      <td>SP-0080</td>\n",
       "      <td>NaN</td>\n",
       "      <td>NaN</td>\n",
       "      <td>NaN</td>\n",
       "      <td>NaN</td>\n",
       "      <td>NaN</td>\n",
       "      <td>NaN</td>\n",
       "      <td>NaN</td>\n",
       "      <td>NaN</td>\n",
       "    </tr>\n",
       "    <tr>\n",
       "      <th>21174</th>\n",
       "      <td>TA-21176</td>\n",
       "      <td>SP-0063</td>\n",
       "      <td>SP-0069</td>\n",
       "      <td>SP-0080</td>\n",
       "      <td>NaN</td>\n",
       "      <td>NaN</td>\n",
       "      <td>NaN</td>\n",
       "      <td>NaN</td>\n",
       "      <td>NaN</td>\n",
       "      <td>NaN</td>\n",
       "      <td>NaN</td>\n",
       "    </tr>\n",
       "    <tr>\n",
       "      <th>21175</th>\n",
       "      <td>TA-21177</td>\n",
       "      <td>SP-0063</td>\n",
       "      <td>SP-0069</td>\n",
       "      <td>SP-0080</td>\n",
       "      <td>NaN</td>\n",
       "      <td>NaN</td>\n",
       "      <td>NaN</td>\n",
       "      <td>NaN</td>\n",
       "      <td>NaN</td>\n",
       "      <td>NaN</td>\n",
       "      <td>NaN</td>\n",
       "    </tr>\n",
       "    <tr>\n",
       "      <th>21176</th>\n",
       "      <td>TA-21178</td>\n",
       "      <td>NaN</td>\n",
       "      <td>NaN</td>\n",
       "      <td>NaN</td>\n",
       "      <td>NaN</td>\n",
       "      <td>NaN</td>\n",
       "      <td>NaN</td>\n",
       "      <td>NaN</td>\n",
       "      <td>NaN</td>\n",
       "      <td>NaN</td>\n",
       "      <td>NaN</td>\n",
       "    </tr>\n",
       "    <tr>\n",
       "      <th>21177</th>\n",
       "      <td>TA-21179</td>\n",
       "      <td>SP-0058</td>\n",
       "      <td>SP-0070</td>\n",
       "      <td>SP-0080</td>\n",
       "      <td>NaN</td>\n",
       "      <td>NaN</td>\n",
       "      <td>NaN</td>\n",
       "      <td>NaN</td>\n",
       "      <td>NaN</td>\n",
       "      <td>NaN</td>\n",
       "      <td>NaN</td>\n",
       "    </tr>\n",
       "    <tr>\n",
       "      <th>21178</th>\n",
       "      <td>TA-21180</td>\n",
       "      <td>SP-0007</td>\n",
       "      <td>SP-0024</td>\n",
       "      <td>SP-0069</td>\n",
       "      <td>SP-0080</td>\n",
       "      <td>NaN</td>\n",
       "      <td>NaN</td>\n",
       "      <td>NaN</td>\n",
       "      <td>NaN</td>\n",
       "      <td>NaN</td>\n",
       "      <td>NaN</td>\n",
       "    </tr>\n",
       "    <tr>\n",
       "      <th>21179</th>\n",
       "      <td>TA-21181</td>\n",
       "      <td>SP-0007</td>\n",
       "      <td>SP-0024</td>\n",
       "      <td>SP-0069</td>\n",
       "      <td>SP-0080</td>\n",
       "      <td>NaN</td>\n",
       "      <td>NaN</td>\n",
       "      <td>NaN</td>\n",
       "      <td>NaN</td>\n",
       "      <td>NaN</td>\n",
       "      <td>NaN</td>\n",
       "    </tr>\n",
       "    <tr>\n",
       "      <th>21180</th>\n",
       "      <td>TA-21182</td>\n",
       "      <td>SP-0024</td>\n",
       "      <td>SP-0063</td>\n",
       "      <td>SP-0070</td>\n",
       "      <td>SP-0080</td>\n",
       "      <td>NaN</td>\n",
       "      <td>NaN</td>\n",
       "      <td>NaN</td>\n",
       "      <td>NaN</td>\n",
       "      <td>NaN</td>\n",
       "      <td>NaN</td>\n",
       "    </tr>\n",
       "    <tr>\n",
       "      <th>21181</th>\n",
       "      <td>TA-21183</td>\n",
       "      <td>SP-0024</td>\n",
       "      <td>SP-0063</td>\n",
       "      <td>SP-0070</td>\n",
       "      <td>SP-0080</td>\n",
       "      <td>NaN</td>\n",
       "      <td>NaN</td>\n",
       "      <td>NaN</td>\n",
       "      <td>NaN</td>\n",
       "      <td>NaN</td>\n",
       "      <td>NaN</td>\n",
       "    </tr>\n",
       "    <tr>\n",
       "      <th>21182</th>\n",
       "      <td>TA-21184</td>\n",
       "      <td>SP-0007</td>\n",
       "      <td>SP-0058</td>\n",
       "      <td>SP-0070</td>\n",
       "      <td>SP-0080</td>\n",
       "      <td>NaN</td>\n",
       "      <td>NaN</td>\n",
       "      <td>NaN</td>\n",
       "      <td>NaN</td>\n",
       "      <td>NaN</td>\n",
       "      <td>NaN</td>\n",
       "    </tr>\n",
       "    <tr>\n",
       "      <th>21183</th>\n",
       "      <td>TA-21185</td>\n",
       "      <td>SP-0004</td>\n",
       "      <td>SP-0024</td>\n",
       "      <td>SP-0069</td>\n",
       "      <td>SP-0080</td>\n",
       "      <td>NaN</td>\n",
       "      <td>NaN</td>\n",
       "      <td>NaN</td>\n",
       "      <td>NaN</td>\n",
       "      <td>NaN</td>\n",
       "      <td>NaN</td>\n",
       "    </tr>\n",
       "    <tr>\n",
       "      <th>21184</th>\n",
       "      <td>TA-21186</td>\n",
       "      <td>SP-0004</td>\n",
       "      <td>SP-0024</td>\n",
       "      <td>SP-0069</td>\n",
       "      <td>SP-0080</td>\n",
       "      <td>NaN</td>\n",
       "      <td>NaN</td>\n",
       "      <td>NaN</td>\n",
       "      <td>NaN</td>\n",
       "      <td>NaN</td>\n",
       "      <td>NaN</td>\n",
       "    </tr>\n",
       "    <tr>\n",
       "      <th>21185</th>\n",
       "      <td>TA-21187</td>\n",
       "      <td>SP-0004</td>\n",
       "      <td>SP-0024</td>\n",
       "      <td>SP-0069</td>\n",
       "      <td>SP-0080</td>\n",
       "      <td>NaN</td>\n",
       "      <td>NaN</td>\n",
       "      <td>NaN</td>\n",
       "      <td>NaN</td>\n",
       "      <td>NaN</td>\n",
       "      <td>NaN</td>\n",
       "    </tr>\n",
       "    <tr>\n",
       "      <th>21186</th>\n",
       "      <td>TA-21188</td>\n",
       "      <td>SP-0007</td>\n",
       "      <td>SP-0024</td>\n",
       "      <td>SP-0070</td>\n",
       "      <td>SP-0080</td>\n",
       "      <td>SP-0082</td>\n",
       "      <td>NaN</td>\n",
       "      <td>NaN</td>\n",
       "      <td>NaN</td>\n",
       "      <td>NaN</td>\n",
       "      <td>NaN</td>\n",
       "    </tr>\n",
       "    <tr>\n",
       "      <th>21187</th>\n",
       "      <td>TA-21189</td>\n",
       "      <td>NaN</td>\n",
       "      <td>NaN</td>\n",
       "      <td>NaN</td>\n",
       "      <td>NaN</td>\n",
       "      <td>NaN</td>\n",
       "      <td>NaN</td>\n",
       "      <td>NaN</td>\n",
       "      <td>NaN</td>\n",
       "      <td>NaN</td>\n",
       "      <td>NaN</td>\n",
       "    </tr>\n",
       "    <tr>\n",
       "      <th>21188</th>\n",
       "      <td>TA-21190</td>\n",
       "      <td>NaN</td>\n",
       "      <td>NaN</td>\n",
       "      <td>NaN</td>\n",
       "      <td>NaN</td>\n",
       "      <td>NaN</td>\n",
       "      <td>NaN</td>\n",
       "      <td>NaN</td>\n",
       "      <td>NaN</td>\n",
       "      <td>NaN</td>\n",
       "      <td>NaN</td>\n",
       "    </tr>\n",
       "    <tr>\n",
       "      <th>21189</th>\n",
       "      <td>TA-21191</td>\n",
       "      <td>SP-0007</td>\n",
       "      <td>SP-0024</td>\n",
       "      <td>SP-0063</td>\n",
       "      <td>SP-0069</td>\n",
       "      <td>SP-0080</td>\n",
       "      <td>NaN</td>\n",
       "      <td>NaN</td>\n",
       "      <td>NaN</td>\n",
       "      <td>NaN</td>\n",
       "      <td>NaN</td>\n",
       "    </tr>\n",
       "    <tr>\n",
       "      <th>21190</th>\n",
       "      <td>TA-21192</td>\n",
       "      <td>NaN</td>\n",
       "      <td>NaN</td>\n",
       "      <td>NaN</td>\n",
       "      <td>NaN</td>\n",
       "      <td>NaN</td>\n",
       "      <td>NaN</td>\n",
       "      <td>NaN</td>\n",
       "      <td>NaN</td>\n",
       "      <td>NaN</td>\n",
       "      <td>NaN</td>\n",
       "    </tr>\n",
       "    <tr>\n",
       "      <th>21191</th>\n",
       "      <td>TA-21193</td>\n",
       "      <td>NaN</td>\n",
       "      <td>NaN</td>\n",
       "      <td>NaN</td>\n",
       "      <td>NaN</td>\n",
       "      <td>NaN</td>\n",
       "      <td>NaN</td>\n",
       "      <td>NaN</td>\n",
       "      <td>NaN</td>\n",
       "      <td>NaN</td>\n",
       "      <td>NaN</td>\n",
       "    </tr>\n",
       "    <tr>\n",
       "      <th>21192</th>\n",
       "      <td>TA-21194</td>\n",
       "      <td>NaN</td>\n",
       "      <td>NaN</td>\n",
       "      <td>NaN</td>\n",
       "      <td>NaN</td>\n",
       "      <td>NaN</td>\n",
       "      <td>NaN</td>\n",
       "      <td>NaN</td>\n",
       "      <td>NaN</td>\n",
       "      <td>NaN</td>\n",
       "      <td>NaN</td>\n",
       "    </tr>\n",
       "    <tr>\n",
       "      <th>21193</th>\n",
       "      <td>TA-21195</td>\n",
       "      <td>NaN</td>\n",
       "      <td>NaN</td>\n",
       "      <td>NaN</td>\n",
       "      <td>NaN</td>\n",
       "      <td>NaN</td>\n",
       "      <td>NaN</td>\n",
       "      <td>NaN</td>\n",
       "      <td>NaN</td>\n",
       "      <td>NaN</td>\n",
       "      <td>NaN</td>\n",
       "    </tr>\n",
       "    <tr>\n",
       "      <th>21194</th>\n",
       "      <td>TA-21196</td>\n",
       "      <td>SP-0007</td>\n",
       "      <td>SP-0080</td>\n",
       "      <td>NaN</td>\n",
       "      <td>NaN</td>\n",
       "      <td>NaN</td>\n",
       "      <td>NaN</td>\n",
       "      <td>NaN</td>\n",
       "      <td>NaN</td>\n",
       "      <td>NaN</td>\n",
       "      <td>NaN</td>\n",
       "    </tr>\n",
       "    <tr>\n",
       "      <th>21195</th>\n",
       "      <td>TA-21197</td>\n",
       "      <td>SP-0007</td>\n",
       "      <td>SP-0080</td>\n",
       "      <td>NaN</td>\n",
       "      <td>NaN</td>\n",
       "      <td>NaN</td>\n",
       "      <td>NaN</td>\n",
       "      <td>NaN</td>\n",
       "      <td>NaN</td>\n",
       "      <td>NaN</td>\n",
       "      <td>NaN</td>\n",
       "    </tr>\n",
       "    <tr>\n",
       "      <th>21196</th>\n",
       "      <td>TA-21198</td>\n",
       "      <td>SP-0058</td>\n",
       "      <td>SP-0080</td>\n",
       "      <td>NaN</td>\n",
       "      <td>NaN</td>\n",
       "      <td>NaN</td>\n",
       "      <td>NaN</td>\n",
       "      <td>NaN</td>\n",
       "      <td>NaN</td>\n",
       "      <td>NaN</td>\n",
       "      <td>NaN</td>\n",
       "    </tr>\n",
       "    <tr>\n",
       "      <th>21197</th>\n",
       "      <td>TA-21199</td>\n",
       "      <td>SP-0058</td>\n",
       "      <td>SP-0080</td>\n",
       "      <td>NaN</td>\n",
       "      <td>NaN</td>\n",
       "      <td>NaN</td>\n",
       "      <td>NaN</td>\n",
       "      <td>NaN</td>\n",
       "      <td>NaN</td>\n",
       "      <td>NaN</td>\n",
       "      <td>NaN</td>\n",
       "    </tr>\n",
       "  </tbody>\n",
       "</table>\n",
       "<p>21198 rows × 11 columns</p>\n",
       "</div>"
      ],
      "text/plain": [
       "      tube_assembly_id    spec1    spec2    spec3    spec4    spec5 spec6  \\\n",
       "0             TA-00001      NaN      NaN      NaN      NaN      NaN   NaN   \n",
       "1             TA-00002      NaN      NaN      NaN      NaN      NaN   NaN   \n",
       "2             TA-00003      NaN      NaN      NaN      NaN      NaN   NaN   \n",
       "3             TA-00004      NaN      NaN      NaN      NaN      NaN   NaN   \n",
       "4             TA-00005      NaN      NaN      NaN      NaN      NaN   NaN   \n",
       "5             TA-00006      NaN      NaN      NaN      NaN      NaN   NaN   \n",
       "6             TA-00007      NaN      NaN      NaN      NaN      NaN   NaN   \n",
       "7             TA-00008      NaN      NaN      NaN      NaN      NaN   NaN   \n",
       "8             TA-00009      NaN      NaN      NaN      NaN      NaN   NaN   \n",
       "9             TA-00010      NaN      NaN      NaN      NaN      NaN   NaN   \n",
       "10            TA-00011      NaN      NaN      NaN      NaN      NaN   NaN   \n",
       "11            TA-00012      NaN      NaN      NaN      NaN      NaN   NaN   \n",
       "12            TA-00013  SP-0004  SP-0069  SP-0080      NaN      NaN   NaN   \n",
       "13            TA-00014      NaN      NaN      NaN      NaN      NaN   NaN   \n",
       "14            TA-00015  SP-0063  SP-0069  SP-0080      NaN      NaN   NaN   \n",
       "15            TA-00016      NaN      NaN      NaN      NaN      NaN   NaN   \n",
       "16            TA-00017      NaN      NaN      NaN      NaN      NaN   NaN   \n",
       "17            TA-00018  SP-0007  SP-0058  SP-0070  SP-0080      NaN   NaN   \n",
       "18            TA-00019  SP-0080      NaN      NaN      NaN      NaN   NaN   \n",
       "19            TA-00020  SP-0057  SP-0067  SP-0080      NaN      NaN   NaN   \n",
       "20            TA-00021  SP-0057  SP-0067  SP-0080      NaN      NaN   NaN   \n",
       "21            TA-00022  SP-0012  SP-0026  SP-0063  SP-0080      NaN   NaN   \n",
       "22            TA-00023      NaN      NaN      NaN      NaN      NaN   NaN   \n",
       "23            TA-00024      NaN      NaN      NaN      NaN      NaN   NaN   \n",
       "24            TA-00025      NaN      NaN      NaN      NaN      NaN   NaN   \n",
       "25            TA-00026      NaN      NaN      NaN      NaN      NaN   NaN   \n",
       "26            TA-00027      NaN      NaN      NaN      NaN      NaN   NaN   \n",
       "27            TA-00028  SP-0007  SP-0070  SP-0080      NaN      NaN   NaN   \n",
       "28            TA-00029      NaN      NaN      NaN      NaN      NaN   NaN   \n",
       "29            TA-00030      NaN      NaN      NaN      NaN      NaN   NaN   \n",
       "...                ...      ...      ...      ...      ...      ...   ...   \n",
       "21168         TA-21170  SP-0063  SP-0080      NaN      NaN      NaN   NaN   \n",
       "21169         TA-21171  SP-0026  SP-0058  SP-0070  SP-0080      NaN   NaN   \n",
       "21170         TA-21172  SP-0026  SP-0058  SP-0070  SP-0080      NaN   NaN   \n",
       "21171         TA-21173  SP-0070  SP-0080      NaN      NaN      NaN   NaN   \n",
       "21172         TA-21174  SP-0058  SP-0080      NaN      NaN      NaN   NaN   \n",
       "21173         TA-21175  SP-0058  SP-0080      NaN      NaN      NaN   NaN   \n",
       "21174         TA-21176  SP-0063  SP-0069  SP-0080      NaN      NaN   NaN   \n",
       "21175         TA-21177  SP-0063  SP-0069  SP-0080      NaN      NaN   NaN   \n",
       "21176         TA-21178      NaN      NaN      NaN      NaN      NaN   NaN   \n",
       "21177         TA-21179  SP-0058  SP-0070  SP-0080      NaN      NaN   NaN   \n",
       "21178         TA-21180  SP-0007  SP-0024  SP-0069  SP-0080      NaN   NaN   \n",
       "21179         TA-21181  SP-0007  SP-0024  SP-0069  SP-0080      NaN   NaN   \n",
       "21180         TA-21182  SP-0024  SP-0063  SP-0070  SP-0080      NaN   NaN   \n",
       "21181         TA-21183  SP-0024  SP-0063  SP-0070  SP-0080      NaN   NaN   \n",
       "21182         TA-21184  SP-0007  SP-0058  SP-0070  SP-0080      NaN   NaN   \n",
       "21183         TA-21185  SP-0004  SP-0024  SP-0069  SP-0080      NaN   NaN   \n",
       "21184         TA-21186  SP-0004  SP-0024  SP-0069  SP-0080      NaN   NaN   \n",
       "21185         TA-21187  SP-0004  SP-0024  SP-0069  SP-0080      NaN   NaN   \n",
       "21186         TA-21188  SP-0007  SP-0024  SP-0070  SP-0080  SP-0082   NaN   \n",
       "21187         TA-21189      NaN      NaN      NaN      NaN      NaN   NaN   \n",
       "21188         TA-21190      NaN      NaN      NaN      NaN      NaN   NaN   \n",
       "21189         TA-21191  SP-0007  SP-0024  SP-0063  SP-0069  SP-0080   NaN   \n",
       "21190         TA-21192      NaN      NaN      NaN      NaN      NaN   NaN   \n",
       "21191         TA-21193      NaN      NaN      NaN      NaN      NaN   NaN   \n",
       "21192         TA-21194      NaN      NaN      NaN      NaN      NaN   NaN   \n",
       "21193         TA-21195      NaN      NaN      NaN      NaN      NaN   NaN   \n",
       "21194         TA-21196  SP-0007  SP-0080      NaN      NaN      NaN   NaN   \n",
       "21195         TA-21197  SP-0007  SP-0080      NaN      NaN      NaN   NaN   \n",
       "21196         TA-21198  SP-0058  SP-0080      NaN      NaN      NaN   NaN   \n",
       "21197         TA-21199  SP-0058  SP-0080      NaN      NaN      NaN   NaN   \n",
       "\n",
       "      spec7 spec8 spec9 spec10  \n",
       "0       NaN   NaN   NaN    NaN  \n",
       "1       NaN   NaN   NaN    NaN  \n",
       "2       NaN   NaN   NaN    NaN  \n",
       "3       NaN   NaN   NaN    NaN  \n",
       "4       NaN   NaN   NaN    NaN  \n",
       "5       NaN   NaN   NaN    NaN  \n",
       "6       NaN   NaN   NaN    NaN  \n",
       "7       NaN   NaN   NaN    NaN  \n",
       "8       NaN   NaN   NaN    NaN  \n",
       "9       NaN   NaN   NaN    NaN  \n",
       "10      NaN   NaN   NaN    NaN  \n",
       "11      NaN   NaN   NaN    NaN  \n",
       "12      NaN   NaN   NaN    NaN  \n",
       "13      NaN   NaN   NaN    NaN  \n",
       "14      NaN   NaN   NaN    NaN  \n",
       "15      NaN   NaN   NaN    NaN  \n",
       "16      NaN   NaN   NaN    NaN  \n",
       "17      NaN   NaN   NaN    NaN  \n",
       "18      NaN   NaN   NaN    NaN  \n",
       "19      NaN   NaN   NaN    NaN  \n",
       "20      NaN   NaN   NaN    NaN  \n",
       "21      NaN   NaN   NaN    NaN  \n",
       "22      NaN   NaN   NaN    NaN  \n",
       "23      NaN   NaN   NaN    NaN  \n",
       "24      NaN   NaN   NaN    NaN  \n",
       "25      NaN   NaN   NaN    NaN  \n",
       "26      NaN   NaN   NaN    NaN  \n",
       "27      NaN   NaN   NaN    NaN  \n",
       "28      NaN   NaN   NaN    NaN  \n",
       "29      NaN   NaN   NaN    NaN  \n",
       "...     ...   ...   ...    ...  \n",
       "21168   NaN   NaN   NaN    NaN  \n",
       "21169   NaN   NaN   NaN    NaN  \n",
       "21170   NaN   NaN   NaN    NaN  \n",
       "21171   NaN   NaN   NaN    NaN  \n",
       "21172   NaN   NaN   NaN    NaN  \n",
       "21173   NaN   NaN   NaN    NaN  \n",
       "21174   NaN   NaN   NaN    NaN  \n",
       "21175   NaN   NaN   NaN    NaN  \n",
       "21176   NaN   NaN   NaN    NaN  \n",
       "21177   NaN   NaN   NaN    NaN  \n",
       "21178   NaN   NaN   NaN    NaN  \n",
       "21179   NaN   NaN   NaN    NaN  \n",
       "21180   NaN   NaN   NaN    NaN  \n",
       "21181   NaN   NaN   NaN    NaN  \n",
       "21182   NaN   NaN   NaN    NaN  \n",
       "21183   NaN   NaN   NaN    NaN  \n",
       "21184   NaN   NaN   NaN    NaN  \n",
       "21185   NaN   NaN   NaN    NaN  \n",
       "21186   NaN   NaN   NaN    NaN  \n",
       "21187   NaN   NaN   NaN    NaN  \n",
       "21188   NaN   NaN   NaN    NaN  \n",
       "21189   NaN   NaN   NaN    NaN  \n",
       "21190   NaN   NaN   NaN    NaN  \n",
       "21191   NaN   NaN   NaN    NaN  \n",
       "21192   NaN   NaN   NaN    NaN  \n",
       "21193   NaN   NaN   NaN    NaN  \n",
       "21194   NaN   NaN   NaN    NaN  \n",
       "21195   NaN   NaN   NaN    NaN  \n",
       "21196   NaN   NaN   NaN    NaN  \n",
       "21197   NaN   NaN   NaN    NaN  \n",
       "\n",
       "[21198 rows x 11 columns]"
      ]
     },
     "execution_count": 75,
     "metadata": {},
     "output_type": "execute_result"
    }
   ],
   "source": [
    "specs_data"
   ]
  },
  {
   "cell_type": "code",
   "execution_count": 76,
   "metadata": {},
   "outputs": [
    {
     "name": "stdout",
     "output_type": "stream",
     "text": [
      "<class 'pandas.core.frame.DataFrame'>\n",
      "RangeIndex: 21198 entries, 0 to 21197\n",
      "Data columns (total 11 columns):\n",
      "tube_assembly_id    21198 non-null object\n",
      "spec1               7129 non-null object\n",
      "spec2               6844 non-null object\n",
      "spec3               5840 non-null object\n",
      "spec4               4154 non-null object\n",
      "spec5               2921 non-null object\n",
      "spec6               2071 non-null object\n",
      "spec7               535 non-null object\n",
      "spec8               106 non-null object\n",
      "spec9               20 non-null object\n",
      "spec10              1 non-null object\n",
      "dtypes: object(11)\n",
      "memory usage: 1.8+ MB\n"
     ]
    }
   ],
   "source": [
    "specs_data.info() # 모두 catergory 형 변수"
   ]
  },
  {
   "cell_type": "code",
   "execution_count": 77,
   "metadata": {},
   "outputs": [
    {
     "data": {
      "text/html": [
       "<div>\n",
       "<style>\n",
       "    .dataframe thead tr:only-child th {\n",
       "        text-align: right;\n",
       "    }\n",
       "\n",
       "    .dataframe thead th {\n",
       "        text-align: left;\n",
       "    }\n",
       "\n",
       "    .dataframe tbody tr th {\n",
       "        vertical-align: top;\n",
       "    }\n",
       "</style>\n",
       "<table border=\"1\" class=\"dataframe\">\n",
       "  <thead>\n",
       "    <tr style=\"text-align: right;\">\n",
       "      <th></th>\n",
       "      <th>tube_assembly_id</th>\n",
       "      <th>spec1</th>\n",
       "      <th>spec2</th>\n",
       "      <th>spec3</th>\n",
       "      <th>spec4</th>\n",
       "      <th>spec5</th>\n",
       "      <th>spec6</th>\n",
       "      <th>spec7</th>\n",
       "      <th>spec8</th>\n",
       "      <th>spec9</th>\n",
       "      <th>spec10</th>\n",
       "    </tr>\n",
       "  </thead>\n",
       "  <tbody>\n",
       "    <tr>\n",
       "      <th>count</th>\n",
       "      <td>21198</td>\n",
       "      <td>7129</td>\n",
       "      <td>6844</td>\n",
       "      <td>5840</td>\n",
       "      <td>4154</td>\n",
       "      <td>2921</td>\n",
       "      <td>2071</td>\n",
       "      <td>535</td>\n",
       "      <td>106</td>\n",
       "      <td>20</td>\n",
       "      <td>1</td>\n",
       "    </tr>\n",
       "    <tr>\n",
       "      <th>unique</th>\n",
       "      <td>21198</td>\n",
       "      <td>45</td>\n",
       "      <td>51</td>\n",
       "      <td>49</td>\n",
       "      <td>38</td>\n",
       "      <td>37</td>\n",
       "      <td>24</td>\n",
       "      <td>13</td>\n",
       "      <td>4</td>\n",
       "      <td>3</td>\n",
       "      <td>1</td>\n",
       "    </tr>\n",
       "    <tr>\n",
       "      <th>top</th>\n",
       "      <td>TA-02862</td>\n",
       "      <td>SP-0007</td>\n",
       "      <td>SP-0012</td>\n",
       "      <td>SP-0080</td>\n",
       "      <td>SP-0026</td>\n",
       "      <td>SP-0080</td>\n",
       "      <td>SP-0082</td>\n",
       "      <td>SP-0082</td>\n",
       "      <td>SP-0082</td>\n",
       "      <td>SP-0088</td>\n",
       "      <td>SP-0080</td>\n",
       "    </tr>\n",
       "    <tr>\n",
       "      <th>freq</th>\n",
       "      <td>1</td>\n",
       "      <td>3002</td>\n",
       "      <td>1736</td>\n",
       "      <td>1798</td>\n",
       "      <td>1492</td>\n",
       "      <td>1780</td>\n",
       "      <td>1167</td>\n",
       "      <td>322</td>\n",
       "      <td>73</td>\n",
       "      <td>18</td>\n",
       "      <td>1</td>\n",
       "    </tr>\n",
       "  </tbody>\n",
       "</table>\n",
       "</div>"
      ],
      "text/plain": [
       "       tube_assembly_id    spec1    spec2    spec3    spec4    spec5    spec6  \\\n",
       "count             21198     7129     6844     5840     4154     2921     2071   \n",
       "unique            21198       45       51       49       38       37       24   \n",
       "top            TA-02862  SP-0007  SP-0012  SP-0080  SP-0026  SP-0080  SP-0082   \n",
       "freq                  1     3002     1736     1798     1492     1780     1167   \n",
       "\n",
       "          spec7    spec8    spec9   spec10  \n",
       "count       535      106       20        1  \n",
       "unique       13        4        3        1  \n",
       "top     SP-0082  SP-0082  SP-0088  SP-0080  \n",
       "freq        322       73       18        1  "
      ]
     },
     "execution_count": 77,
     "metadata": {},
     "output_type": "execute_result"
    }
   ],
   "source": [
    "specs_data.describe()"
   ]
  }
 ],
 "metadata": {
  "kernelspec": {
   "display_name": "Python 3",
   "language": "python",
   "name": "python3"
  },
  "language_info": {
   "codemirror_mode": {
    "name": "ipython",
    "version": 3
   },
   "file_extension": ".py",
   "mimetype": "text/x-python",
   "name": "python",
   "nbconvert_exporter": "python",
   "pygments_lexer": "ipython3",
   "version": "3.6.1"
  }
 },
 "nbformat": 4,
 "nbformat_minor": 2
}
